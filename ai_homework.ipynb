{
  "nbformat": 4,
  "nbformat_minor": 0,
  "metadata": {
    "colab": {
      "name": "EC5320_2022_1_Week6a_Prophet_v2_FOR_TEACHING.ipynb",
      "provenance": [],
      "collapsed_sections": [],
      "include_colab_link": true
    },
    "kernelspec": {
      "name": "python3",
      "display_name": "Python 3"
    },
    "language_info": {
      "name": "python"
    }
  },
  "cells": [
    {
      "cell_type": "markdown",
      "metadata": {
        "id": "view-in-github",
        "colab_type": "text"
      },
      "source": [
        "<a href=\"https://colab.research.google.com/github/kdh4672/economy_ai/blob/main/ai_homework.ipynb\" target=\"_parent\"><img src=\"https://colab.research.google.com/assets/colab-badge.svg\" alt=\"Open In Colab\"/></a>"
      ]
    },
    {
      "cell_type": "markdown",
      "source": [
        "#EC5320 Week6a codes: Time series future prediction (Facebook Prophet)\n",
        "\n",
        "2022.4.6.<br>\n",
        "\n",
        "Author: Hyunjoo Yang (hyang@sogang.ac.kr)<br><br>\n",
        "\n",
        "This notebook uses Facebook's Prophet to predict future stock prices.<br><br>\n",
        "\n",
        "For Facebook's Prophet, refer to:<br>\n",
        "https://facebook.github.io/prophet/ <br><br>\n",
        "\n",
        "Codes are based on: <br>\n",
        "https://github.com/PinkWink/DataScience/blob/master/source_code/07.%20Time%20Series%20Data%20Handle.ipynb <br>"
      ],
      "metadata": {
        "id": "kJhpwrCqEvpr"
      }
    },
    {
      "cell_type": "markdown",
      "source": [
        "# 1. Import"
      ],
      "metadata": {
        "id": "QahKeFvYF2N8"
      }
    },
    {
      "cell_type": "code",
      "source": [
        "!pip install finance-datareader\n",
        "!pip install pyts\n",
        "!pip install fastai --upgrade"
      ],
      "metadata": {
        "colab": {
          "base_uri": "https://localhost:8080/",
          "height": 1000
        },
        "id": "FtPKHphY5kUv",
        "outputId": "31e6f04c-3989-47db-c061-b9e29e849de7"
      },
      "execution_count": 45,
      "outputs": [
        {
          "output_type": "stream",
          "name": "stdout",
          "text": [
            "Requirement already satisfied: finance-datareader in /usr/local/lib/python3.7/dist-packages (0.9.33)\n",
            "Requirement already satisfied: requests-file in /usr/local/lib/python3.7/dist-packages (from finance-datareader) (1.5.1)\n",
            "Requirement already satisfied: lxml in /usr/local/lib/python3.7/dist-packages (from finance-datareader) (4.2.6)\n",
            "Requirement already satisfied: pandas>=0.19.2 in /usr/local/lib/python3.7/dist-packages (from finance-datareader) (1.3.5)\n",
            "Requirement already satisfied: tqdm in /usr/local/lib/python3.7/dist-packages (from finance-datareader) (4.63.0)\n",
            "Requirement already satisfied: requests>=2.3.0 in /usr/local/lib/python3.7/dist-packages (from finance-datareader) (2.23.0)\n",
            "Requirement already satisfied: numpy>=1.17.3 in /usr/local/lib/python3.7/dist-packages (from pandas>=0.19.2->finance-datareader) (1.21.5)\n",
            "Requirement already satisfied: python-dateutil>=2.7.3 in /usr/local/lib/python3.7/dist-packages (from pandas>=0.19.2->finance-datareader) (2.8.2)\n",
            "Requirement already satisfied: pytz>=2017.3 in /usr/local/lib/python3.7/dist-packages (from pandas>=0.19.2->finance-datareader) (2018.9)\n",
            "Requirement already satisfied: six>=1.5 in /usr/local/lib/python3.7/dist-packages (from python-dateutil>=2.7.3->pandas>=0.19.2->finance-datareader) (1.15.0)\n",
            "Requirement already satisfied: urllib3!=1.25.0,!=1.25.1,<1.26,>=1.21.1 in /usr/local/lib/python3.7/dist-packages (from requests>=2.3.0->finance-datareader) (1.24.3)\n",
            "Requirement already satisfied: idna<3,>=2.5 in /usr/local/lib/python3.7/dist-packages (from requests>=2.3.0->finance-datareader) (2.10)\n",
            "Requirement already satisfied: chardet<4,>=3.0.2 in /usr/local/lib/python3.7/dist-packages (from requests>=2.3.0->finance-datareader) (3.0.4)\n",
            "Requirement already satisfied: certifi>=2017.4.17 in /usr/local/lib/python3.7/dist-packages (from requests>=2.3.0->finance-datareader) (2021.10.8)\n",
            "Requirement already satisfied: pyts in /usr/local/lib/python3.7/dist-packages (0.12.0)\n",
            "Requirement already satisfied: scipy>=1.3.0 in /usr/local/lib/python3.7/dist-packages (from pyts) (1.4.1)\n",
            "Requirement already satisfied: numba>=0.48.0 in /usr/local/lib/python3.7/dist-packages (from pyts) (0.51.2)\n",
            "Requirement already satisfied: joblib>=0.12 in /usr/local/lib/python3.7/dist-packages (from pyts) (1.1.0)\n",
            "Requirement already satisfied: numpy>=1.17.5 in /usr/local/lib/python3.7/dist-packages (from pyts) (1.21.5)\n",
            "Requirement already satisfied: scikit-learn>=0.22.1 in /usr/local/lib/python3.7/dist-packages (from pyts) (1.0.2)\n",
            "Requirement already satisfied: llvmlite<0.35,>=0.34.0.dev0 in /usr/local/lib/python3.7/dist-packages (from numba>=0.48.0->pyts) (0.34.0)\n",
            "Requirement already satisfied: setuptools in /usr/local/lib/python3.7/dist-packages (from numba>=0.48.0->pyts) (57.4.0)\n",
            "Requirement already satisfied: threadpoolctl>=2.0.0 in /usr/local/lib/python3.7/dist-packages (from scikit-learn>=0.22.1->pyts) (3.1.0)\n",
            "Requirement already satisfied: fastai in /usr/local/lib/python3.7/dist-packages (1.0.61)\n",
            "Collecting fastai\n",
            "  Downloading fastai-2.5.6-py3-none-any.whl (188 kB)\n",
            "\u001b[K     |████████████████████████████████| 188 kB 5.2 MB/s \n",
            "\u001b[?25hCollecting fastdownload<2,>=0.0.5\n",
            "  Downloading fastdownload-0.0.5-py3-none-any.whl (13 kB)\n",
            "Requirement already satisfied: packaging in /usr/local/lib/python3.7/dist-packages (from fastai) (21.3)\n",
            "Collecting fastcore<1.5,>=1.3.27\n",
            "  Downloading fastcore-1.4.1-py3-none-any.whl (56 kB)\n",
            "\u001b[K     |████████████████████████████████| 56 kB 4.0 MB/s \n",
            "\u001b[?25hRequirement already satisfied: spacy<4 in /usr/local/lib/python3.7/dist-packages (from fastai) (2.2.4)\n",
            "Requirement already satisfied: requests in /usr/local/lib/python3.7/dist-packages (from fastai) (2.23.0)\n",
            "Requirement already satisfied: fastprogress>=0.2.4 in /usr/local/lib/python3.7/dist-packages (from fastai) (1.0.2)\n",
            "Requirement already satisfied: pip in /usr/local/lib/python3.7/dist-packages (from fastai) (21.1.3)\n",
            "Requirement already satisfied: matplotlib in /usr/local/lib/python3.7/dist-packages (from fastai) (3.2.2)\n",
            "Requirement already satisfied: scipy in /usr/local/lib/python3.7/dist-packages (from fastai) (1.4.1)\n",
            "Requirement already satisfied: pyyaml in /usr/local/lib/python3.7/dist-packages (from fastai) (3.13)\n",
            "Requirement already satisfied: torch<1.12,>=1.7.0 in /usr/local/lib/python3.7/dist-packages (from fastai) (1.10.0+cu111)\n",
            "Requirement already satisfied: pandas in /usr/local/lib/python3.7/dist-packages (from fastai) (1.3.5)\n",
            "Requirement already satisfied: scikit-learn in /usr/local/lib/python3.7/dist-packages (from fastai) (1.0.2)\n",
            "Requirement already satisfied: pillow>6.0.0 in /usr/local/lib/python3.7/dist-packages (from fastai) (7.1.2)\n",
            "Requirement already satisfied: torchvision>=0.8.2 in /usr/local/lib/python3.7/dist-packages (from fastai) (0.11.1+cu111)\n",
            "Requirement already satisfied: catalogue<1.1.0,>=0.0.7 in /usr/local/lib/python3.7/dist-packages (from spacy<4->fastai) (1.0.0)\n",
            "Requirement already satisfied: cymem<2.1.0,>=2.0.2 in /usr/local/lib/python3.7/dist-packages (from spacy<4->fastai) (2.0.6)\n",
            "Requirement already satisfied: preshed<3.1.0,>=3.0.2 in /usr/local/lib/python3.7/dist-packages (from spacy<4->fastai) (3.0.6)\n",
            "Requirement already satisfied: blis<0.5.0,>=0.4.0 in /usr/local/lib/python3.7/dist-packages (from spacy<4->fastai) (0.4.1)\n",
            "Requirement already satisfied: plac<1.2.0,>=0.9.6 in /usr/local/lib/python3.7/dist-packages (from spacy<4->fastai) (1.1.3)\n",
            "Requirement already satisfied: wasabi<1.1.0,>=0.4.0 in /usr/local/lib/python3.7/dist-packages (from spacy<4->fastai) (0.9.0)\n",
            "Requirement already satisfied: srsly<1.1.0,>=1.0.2 in /usr/local/lib/python3.7/dist-packages (from spacy<4->fastai) (1.0.5)\n",
            "Requirement already satisfied: numpy>=1.15.0 in /usr/local/lib/python3.7/dist-packages (from spacy<4->fastai) (1.21.5)\n",
            "Requirement already satisfied: murmurhash<1.1.0,>=0.28.0 in /usr/local/lib/python3.7/dist-packages (from spacy<4->fastai) (1.0.6)\n",
            "Requirement already satisfied: thinc==7.4.0 in /usr/local/lib/python3.7/dist-packages (from spacy<4->fastai) (7.4.0)\n",
            "Requirement already satisfied: tqdm<5.0.0,>=4.38.0 in /usr/local/lib/python3.7/dist-packages (from spacy<4->fastai) (4.63.0)\n",
            "Requirement already satisfied: setuptools in /usr/local/lib/python3.7/dist-packages (from spacy<4->fastai) (57.4.0)\n",
            "Requirement already satisfied: importlib-metadata>=0.20 in /usr/local/lib/python3.7/dist-packages (from catalogue<1.1.0,>=0.0.7->spacy<4->fastai) (4.11.3)\n",
            "Requirement already satisfied: typing-extensions>=3.6.4 in /usr/local/lib/python3.7/dist-packages (from importlib-metadata>=0.20->catalogue<1.1.0,>=0.0.7->spacy<4->fastai) (3.10.0.2)\n",
            "Requirement already satisfied: zipp>=0.5 in /usr/local/lib/python3.7/dist-packages (from importlib-metadata>=0.20->catalogue<1.1.0,>=0.0.7->spacy<4->fastai) (3.7.0)\n",
            "Requirement already satisfied: chardet<4,>=3.0.2 in /usr/local/lib/python3.7/dist-packages (from requests->fastai) (3.0.4)\n",
            "Requirement already satisfied: idna<3,>=2.5 in /usr/local/lib/python3.7/dist-packages (from requests->fastai) (2.10)\n",
            "Requirement already satisfied: urllib3!=1.25.0,!=1.25.1,<1.26,>=1.21.1 in /usr/local/lib/python3.7/dist-packages (from requests->fastai) (1.24.3)\n",
            "Requirement already satisfied: certifi>=2017.4.17 in /usr/local/lib/python3.7/dist-packages (from requests->fastai) (2021.10.8)\n",
            "Requirement already satisfied: kiwisolver>=1.0.1 in /usr/local/lib/python3.7/dist-packages (from matplotlib->fastai) (1.4.0)\n",
            "Requirement already satisfied: python-dateutil>=2.1 in /usr/local/lib/python3.7/dist-packages (from matplotlib->fastai) (2.8.2)\n",
            "Requirement already satisfied: cycler>=0.10 in /usr/local/lib/python3.7/dist-packages (from matplotlib->fastai) (0.11.0)\n",
            "Requirement already satisfied: pyparsing!=2.0.4,!=2.1.2,!=2.1.6,>=2.0.1 in /usr/local/lib/python3.7/dist-packages (from matplotlib->fastai) (3.0.7)\n",
            "Requirement already satisfied: six>=1.5 in /usr/local/lib/python3.7/dist-packages (from python-dateutil>=2.1->matplotlib->fastai) (1.15.0)\n",
            "Requirement already satisfied: pytz>=2017.3 in /usr/local/lib/python3.7/dist-packages (from pandas->fastai) (2018.9)\n",
            "Requirement already satisfied: threadpoolctl>=2.0.0 in /usr/local/lib/python3.7/dist-packages (from scikit-learn->fastai) (3.1.0)\n",
            "Requirement already satisfied: joblib>=0.11 in /usr/local/lib/python3.7/dist-packages (from scikit-learn->fastai) (1.1.0)\n",
            "Installing collected packages: fastcore, fastdownload, fastai\n",
            "  Attempting uninstall: fastai\n",
            "    Found existing installation: fastai 1.0.61\n",
            "    Uninstalling fastai-1.0.61:\n",
            "      Successfully uninstalled fastai-1.0.61\n",
            "Successfully installed fastai-2.5.6 fastcore-1.4.1 fastdownload-0.0.5\n"
          ]
        },
        {
          "output_type": "display_data",
          "data": {
            "application/vnd.colab-display-data+json": {
              "pip_warning": {
                "packages": [
                  "fastai"
                ]
              }
            }
          },
          "metadata": {}
        }
      ]
    },
    {
      "cell_type": "code",
      "execution_count": 2,
      "metadata": {
        "id": "YMbc5B0t8uj2"
      },
      "outputs": [],
      "source": [
        "import pandas as pd\n",
        "import pandas_datareader as pdr\n",
        "import numpy as np\n",
        "import matplotlib.pyplot as plt\n",
        "from fbprophet import Prophet\n",
        "from datetime import datetime\n",
        "import FinanceDataReader as fdr\n",
        "import os"
      ]
    },
    {
      "cell_type": "markdown",
      "source": [
        "# 2. Data preparation"
      ],
      "metadata": {
        "id": "ASnELc3KF6VK"
      }
    },
    {
      "cell_type": "code",
      "source": [
        "# S&P 지수 1997~2016을 train으로 load\n",
        "# S&P 지수 2017~2022를 train으로 load\n",
        "\n",
        "train_df = fdr.DataReader('SPY', '1997','2016')\n",
        "test_df = fdr.DataReader('SPY', '2017','2022')"
      ],
      "metadata": {
        "id": "ysPe9htS873r"
      },
      "execution_count": 9,
      "outputs": []
    },
    {
      "cell_type": "code",
      "source": [
        "# check dtypes of variables\n",
        "print(train_df.dtypes)\n",
        "train_df"
      ],
      "metadata": {
        "id": "EdxUe3KV-fnq",
        "colab": {
          "base_uri": "https://localhost:8080/",
          "height": 576
        },
        "outputId": "e7d43b9c-0610-4510-bdf2-13e285a21777"
      },
      "execution_count": 10,
      "outputs": [
        {
          "output_type": "stream",
          "name": "stdout",
          "text": [
            "Close     float64\n",
            "Open      float64\n",
            "High      float64\n",
            "Low       float64\n",
            "Volume    float64\n",
            "Change    float64\n",
            "dtype: object\n"
          ]
        },
        {
          "output_type": "execute_result",
          "data": {
            "text/plain": [
              "             Close    Open    High     Low       Volume  Change\n",
              "Date                                                           \n",
              "1997-01-02   74.03   74.38   74.38   72.75    2030000.0  0.0026\n",
              "1997-01-03   75.09   74.38   75.12   74.08    2120000.0  0.0143\n",
              "1997-01-06   74.44   75.09   75.44   74.31    1370000.0 -0.0087\n",
              "1997-01-07   75.34   74.44   75.47   74.12     939000.0  0.0121\n",
              "1997-01-08   74.69   75.75   75.78   74.69    1800000.0 -0.0086\n",
              "...            ...     ...     ...     ...          ...     ...\n",
              "2015-12-24  205.68  205.72  206.33  205.42   48540000.0 -0.0017\n",
              "2015-12-28  205.21  204.86  205.26  203.94   65900000.0 -0.0023\n",
              "2015-12-29  207.40  206.51  207.79  206.47   92640000.0  0.0107\n",
              "2015-12-30  205.93  207.11  207.21  205.76   63320000.0 -0.0071\n",
              "2015-12-31  203.87  205.13  205.89  203.87  114880000.0 -0.0100\n",
              "\n",
              "[4782 rows x 6 columns]"
            ],
            "text/html": [
              "\n",
              "  <div id=\"df-a647fddb-7738-43b5-8ab0-0f63eea0232d\">\n",
              "    <div class=\"colab-df-container\">\n",
              "      <div>\n",
              "<style scoped>\n",
              "    .dataframe tbody tr th:only-of-type {\n",
              "        vertical-align: middle;\n",
              "    }\n",
              "\n",
              "    .dataframe tbody tr th {\n",
              "        vertical-align: top;\n",
              "    }\n",
              "\n",
              "    .dataframe thead th {\n",
              "        text-align: right;\n",
              "    }\n",
              "</style>\n",
              "<table border=\"1\" class=\"dataframe\">\n",
              "  <thead>\n",
              "    <tr style=\"text-align: right;\">\n",
              "      <th></th>\n",
              "      <th>Close</th>\n",
              "      <th>Open</th>\n",
              "      <th>High</th>\n",
              "      <th>Low</th>\n",
              "      <th>Volume</th>\n",
              "      <th>Change</th>\n",
              "    </tr>\n",
              "    <tr>\n",
              "      <th>Date</th>\n",
              "      <th></th>\n",
              "      <th></th>\n",
              "      <th></th>\n",
              "      <th></th>\n",
              "      <th></th>\n",
              "      <th></th>\n",
              "    </tr>\n",
              "  </thead>\n",
              "  <tbody>\n",
              "    <tr>\n",
              "      <th>1997-01-02</th>\n",
              "      <td>74.03</td>\n",
              "      <td>74.38</td>\n",
              "      <td>74.38</td>\n",
              "      <td>72.75</td>\n",
              "      <td>2030000.0</td>\n",
              "      <td>0.0026</td>\n",
              "    </tr>\n",
              "    <tr>\n",
              "      <th>1997-01-03</th>\n",
              "      <td>75.09</td>\n",
              "      <td>74.38</td>\n",
              "      <td>75.12</td>\n",
              "      <td>74.08</td>\n",
              "      <td>2120000.0</td>\n",
              "      <td>0.0143</td>\n",
              "    </tr>\n",
              "    <tr>\n",
              "      <th>1997-01-06</th>\n",
              "      <td>74.44</td>\n",
              "      <td>75.09</td>\n",
              "      <td>75.44</td>\n",
              "      <td>74.31</td>\n",
              "      <td>1370000.0</td>\n",
              "      <td>-0.0087</td>\n",
              "    </tr>\n",
              "    <tr>\n",
              "      <th>1997-01-07</th>\n",
              "      <td>75.34</td>\n",
              "      <td>74.44</td>\n",
              "      <td>75.47</td>\n",
              "      <td>74.12</td>\n",
              "      <td>939000.0</td>\n",
              "      <td>0.0121</td>\n",
              "    </tr>\n",
              "    <tr>\n",
              "      <th>1997-01-08</th>\n",
              "      <td>74.69</td>\n",
              "      <td>75.75</td>\n",
              "      <td>75.78</td>\n",
              "      <td>74.69</td>\n",
              "      <td>1800000.0</td>\n",
              "      <td>-0.0086</td>\n",
              "    </tr>\n",
              "    <tr>\n",
              "      <th>...</th>\n",
              "      <td>...</td>\n",
              "      <td>...</td>\n",
              "      <td>...</td>\n",
              "      <td>...</td>\n",
              "      <td>...</td>\n",
              "      <td>...</td>\n",
              "    </tr>\n",
              "    <tr>\n",
              "      <th>2015-12-24</th>\n",
              "      <td>205.68</td>\n",
              "      <td>205.72</td>\n",
              "      <td>206.33</td>\n",
              "      <td>205.42</td>\n",
              "      <td>48540000.0</td>\n",
              "      <td>-0.0017</td>\n",
              "    </tr>\n",
              "    <tr>\n",
              "      <th>2015-12-28</th>\n",
              "      <td>205.21</td>\n",
              "      <td>204.86</td>\n",
              "      <td>205.26</td>\n",
              "      <td>203.94</td>\n",
              "      <td>65900000.0</td>\n",
              "      <td>-0.0023</td>\n",
              "    </tr>\n",
              "    <tr>\n",
              "      <th>2015-12-29</th>\n",
              "      <td>207.40</td>\n",
              "      <td>206.51</td>\n",
              "      <td>207.79</td>\n",
              "      <td>206.47</td>\n",
              "      <td>92640000.0</td>\n",
              "      <td>0.0107</td>\n",
              "    </tr>\n",
              "    <tr>\n",
              "      <th>2015-12-30</th>\n",
              "      <td>205.93</td>\n",
              "      <td>207.11</td>\n",
              "      <td>207.21</td>\n",
              "      <td>205.76</td>\n",
              "      <td>63320000.0</td>\n",
              "      <td>-0.0071</td>\n",
              "    </tr>\n",
              "    <tr>\n",
              "      <th>2015-12-31</th>\n",
              "      <td>203.87</td>\n",
              "      <td>205.13</td>\n",
              "      <td>205.89</td>\n",
              "      <td>203.87</td>\n",
              "      <td>114880000.0</td>\n",
              "      <td>-0.0100</td>\n",
              "    </tr>\n",
              "  </tbody>\n",
              "</table>\n",
              "<p>4782 rows × 6 columns</p>\n",
              "</div>\n",
              "      <button class=\"colab-df-convert\" onclick=\"convertToInteractive('df-a647fddb-7738-43b5-8ab0-0f63eea0232d')\"\n",
              "              title=\"Convert this dataframe to an interactive table.\"\n",
              "              style=\"display:none;\">\n",
              "        \n",
              "  <svg xmlns=\"http://www.w3.org/2000/svg\" height=\"24px\"viewBox=\"0 0 24 24\"\n",
              "       width=\"24px\">\n",
              "    <path d=\"M0 0h24v24H0V0z\" fill=\"none\"/>\n",
              "    <path d=\"M18.56 5.44l.94 2.06.94-2.06 2.06-.94-2.06-.94-.94-2.06-.94 2.06-2.06.94zm-11 1L8.5 8.5l.94-2.06 2.06-.94-2.06-.94L8.5 2.5l-.94 2.06-2.06.94zm10 10l.94 2.06.94-2.06 2.06-.94-2.06-.94-.94-2.06-.94 2.06-2.06.94z\"/><path d=\"M17.41 7.96l-1.37-1.37c-.4-.4-.92-.59-1.43-.59-.52 0-1.04.2-1.43.59L10.3 9.45l-7.72 7.72c-.78.78-.78 2.05 0 2.83L4 21.41c.39.39.9.59 1.41.59.51 0 1.02-.2 1.41-.59l7.78-7.78 2.81-2.81c.8-.78.8-2.07 0-2.86zM5.41 20L4 18.59l7.72-7.72 1.47 1.35L5.41 20z\"/>\n",
              "  </svg>\n",
              "      </button>\n",
              "      \n",
              "  <style>\n",
              "    .colab-df-container {\n",
              "      display:flex;\n",
              "      flex-wrap:wrap;\n",
              "      gap: 12px;\n",
              "    }\n",
              "\n",
              "    .colab-df-convert {\n",
              "      background-color: #E8F0FE;\n",
              "      border: none;\n",
              "      border-radius: 50%;\n",
              "      cursor: pointer;\n",
              "      display: none;\n",
              "      fill: #1967D2;\n",
              "      height: 32px;\n",
              "      padding: 0 0 0 0;\n",
              "      width: 32px;\n",
              "    }\n",
              "\n",
              "    .colab-df-convert:hover {\n",
              "      background-color: #E2EBFA;\n",
              "      box-shadow: 0px 1px 2px rgba(60, 64, 67, 0.3), 0px 1px 3px 1px rgba(60, 64, 67, 0.15);\n",
              "      fill: #174EA6;\n",
              "    }\n",
              "\n",
              "    [theme=dark] .colab-df-convert {\n",
              "      background-color: #3B4455;\n",
              "      fill: #D2E3FC;\n",
              "    }\n",
              "\n",
              "    [theme=dark] .colab-df-convert:hover {\n",
              "      background-color: #434B5C;\n",
              "      box-shadow: 0px 1px 3px 1px rgba(0, 0, 0, 0.15);\n",
              "      filter: drop-shadow(0px 1px 2px rgba(0, 0, 0, 0.3));\n",
              "      fill: #FFFFFF;\n",
              "    }\n",
              "  </style>\n",
              "\n",
              "      <script>\n",
              "        const buttonEl =\n",
              "          document.querySelector('#df-a647fddb-7738-43b5-8ab0-0f63eea0232d button.colab-df-convert');\n",
              "        buttonEl.style.display =\n",
              "          google.colab.kernel.accessAllowed ? 'block' : 'none';\n",
              "\n",
              "        async function convertToInteractive(key) {\n",
              "          const element = document.querySelector('#df-a647fddb-7738-43b5-8ab0-0f63eea0232d');\n",
              "          const dataTable =\n",
              "            await google.colab.kernel.invokeFunction('convertToInteractive',\n",
              "                                                     [key], {});\n",
              "          if (!dataTable) return;\n",
              "\n",
              "          const docLinkHtml = 'Like what you see? Visit the ' +\n",
              "            '<a target=\"_blank\" href=https://colab.research.google.com/notebooks/data_table.ipynb>data table notebook</a>'\n",
              "            + ' to learn more about interactive tables.';\n",
              "          element.innerHTML = '';\n",
              "          dataTable['output_type'] = 'display_data';\n",
              "          await google.colab.output.renderOutput(dataTable, element);\n",
              "          const docLink = document.createElement('div');\n",
              "          docLink.innerHTML = docLinkHtml;\n",
              "          element.appendChild(docLink);\n",
              "        }\n",
              "      </script>\n",
              "    </div>\n",
              "  </div>\n",
              "  "
            ]
          },
          "metadata": {},
          "execution_count": 10
        }
      ]
    },
    {
      "cell_type": "code",
      "source": [
        "## S&P 20일의 종가 그래프\n",
        "x_data = train_df[0:20]['Close']\n",
        "x_data.plot(figsize=(12,6), grid=True);"
      ],
      "metadata": {
        "colab": {
          "base_uri": "https://localhost:8080/",
          "height": 421
        },
        "id": "OCNPcJPfUu2Y",
        "outputId": "56c05477-f893-406f-9b50-304930b3063a"
      },
      "execution_count": 11,
      "outputs": [
        {
          "output_type": "display_data",
          "data": {
            "text/plain": [
              "<Figure size 864x432 with 1 Axes>"
            ],
            "image/png": "[encoded data removed]"
          },
          "metadata": {
            "needs_background": "light"
          }
        }
      ]
    },
    {
      "cell_type": "code",
      "source": [
        "train_df.iloc[:, 1:].shape\n",
        "train_df"
      ],
      "metadata": {
        "colab": {
          "base_uri": "https://localhost:8080/",
          "height": 455
        },
        "id": "Uj5_i7bMsC-S",
        "outputId": "63ab5a1b-c09f-4a33-9d7b-33566266b6f7"
      },
      "execution_count": 12,
      "outputs": [
        {
          "output_type": "execute_result",
          "data": {
            "text/plain": [
              "             Close    Open    High     Low       Volume  Change\n",
              "Date                                                           \n",
              "1997-01-02   74.03   74.38   74.38   72.75    2030000.0  0.0026\n",
              "1997-01-03   75.09   74.38   75.12   74.08    2120000.0  0.0143\n",
              "1997-01-06   74.44   75.09   75.44   74.31    1370000.0 -0.0087\n",
              "1997-01-07   75.34   74.44   75.47   74.12     939000.0  0.0121\n",
              "1997-01-08   74.69   75.75   75.78   74.69    1800000.0 -0.0086\n",
              "...            ...     ...     ...     ...          ...     ...\n",
              "2015-12-24  205.68  205.72  206.33  205.42   48540000.0 -0.0017\n",
              "2015-12-28  205.21  204.86  205.26  203.94   65900000.0 -0.0023\n",
              "2015-12-29  207.40  206.51  207.79  206.47   92640000.0  0.0107\n",
              "2015-12-30  205.93  207.11  207.21  205.76   63320000.0 -0.0071\n",
              "2015-12-31  203.87  205.13  205.89  203.87  114880000.0 -0.0100\n",
              "\n",
              "[4782 rows x 6 columns]"
            ],
            "text/html": [
              "\n",
              "  <div id=\"df-1c6c225d-61c4-4ca7-9872-b053d0651e6d\">\n",
              "    <div class=\"colab-df-container\">\n",
              "      <div>\n",
              "<style scoped>\n",
              "    .dataframe tbody tr th:only-of-type {\n",
              "        vertical-align: middle;\n",
              "    }\n",
              "\n",
              "    .dataframe tbody tr th {\n",
              "        vertical-align: top;\n",
              "    }\n",
              "\n",
              "    .dataframe thead th {\n",
              "        text-align: right;\n",
              "    }\n",
              "</style>\n",
              "<table border=\"1\" class=\"dataframe\">\n",
              "  <thead>\n",
              "    <tr style=\"text-align: right;\">\n",
              "      <th></th>\n",
              "      <th>Close</th>\n",
              "      <th>Open</th>\n",
              "      <th>High</th>\n",
              "      <th>Low</th>\n",
              "      <th>Volume</th>\n",
              "      <th>Change</th>\n",
              "    </tr>\n",
              "    <tr>\n",
              "      <th>Date</th>\n",
              "      <th></th>\n",
              "      <th></th>\n",
              "      <th></th>\n",
              "      <th></th>\n",
              "      <th></th>\n",
              "      <th></th>\n",
              "    </tr>\n",
              "  </thead>\n",
              "  <tbody>\n",
              "    <tr>\n",
              "      <th>1997-01-02</th>\n",
              "      <td>74.03</td>\n",
              "      <td>74.38</td>\n",
              "      <td>74.38</td>\n",
              "      <td>72.75</td>\n",
              "      <td>2030000.0</td>\n",
              "      <td>0.0026</td>\n",
              "    </tr>\n",
              "    <tr>\n",
              "      <th>1997-01-03</th>\n",
              "      <td>75.09</td>\n",
              "      <td>74.38</td>\n",
              "      <td>75.12</td>\n",
              "      <td>74.08</td>\n",
              "      <td>2120000.0</td>\n",
              "      <td>0.0143</td>\n",
              "    </tr>\n",
              "    <tr>\n",
              "      <th>1997-01-06</th>\n",
              "      <td>74.44</td>\n",
              "      <td>75.09</td>\n",
              "      <td>75.44</td>\n",
              "      <td>74.31</td>\n",
              "      <td>1370000.0</td>\n",
              "      <td>-0.0087</td>\n",
              "    </tr>\n",
              "    <tr>\n",
              "      <th>1997-01-07</th>\n",
              "      <td>75.34</td>\n",
              "      <td>74.44</td>\n",
              "      <td>75.47</td>\n",
              "      <td>74.12</td>\n",
              "      <td>939000.0</td>\n",
              "      <td>0.0121</td>\n",
              "    </tr>\n",
              "    <tr>\n",
              "      <th>1997-01-08</th>\n",
              "      <td>74.69</td>\n",
              "      <td>75.75</td>\n",
              "      <td>75.78</td>\n",
              "      <td>74.69</td>\n",
              "      <td>1800000.0</td>\n",
              "      <td>-0.0086</td>\n",
              "    </tr>\n",
              "    <tr>\n",
              "      <th>...</th>\n",
              "      <td>...</td>\n",
              "      <td>...</td>\n",
              "      <td>...</td>\n",
              "      <td>...</td>\n",
              "      <td>...</td>\n",
              "      <td>...</td>\n",
              "    </tr>\n",
              "    <tr>\n",
              "      <th>2015-12-24</th>\n",
              "      <td>205.68</td>\n",
              "      <td>205.72</td>\n",
              "      <td>206.33</td>\n",
              "      <td>205.42</td>\n",
              "      <td>48540000.0</td>\n",
              "      <td>-0.0017</td>\n",
              "    </tr>\n",
              "    <tr>\n",
              "      <th>2015-12-28</th>\n",
              "      <td>205.21</td>\n",
              "      <td>204.86</td>\n",
              "      <td>205.26</td>\n",
              "      <td>203.94</td>\n",
              "      <td>65900000.0</td>\n",
              "      <td>-0.0023</td>\n",
              "    </tr>\n",
              "    <tr>\n",
              "      <th>2015-12-29</th>\n",
              "      <td>207.40</td>\n",
              "      <td>206.51</td>\n",
              "      <td>207.79</td>\n",
              "      <td>206.47</td>\n",
              "      <td>92640000.0</td>\n",
              "      <td>0.0107</td>\n",
              "    </tr>\n",
              "    <tr>\n",
              "      <th>2015-12-30</th>\n",
              "      <td>205.93</td>\n",
              "      <td>207.11</td>\n",
              "      <td>207.21</td>\n",
              "      <td>205.76</td>\n",
              "      <td>63320000.0</td>\n",
              "      <td>-0.0071</td>\n",
              "    </tr>\n",
              "    <tr>\n",
              "      <th>2015-12-31</th>\n",
              "      <td>203.87</td>\n",
              "      <td>205.13</td>\n",
              "      <td>205.89</td>\n",
              "      <td>203.87</td>\n",
              "      <td>114880000.0</td>\n",
              "      <td>-0.0100</td>\n",
              "    </tr>\n",
              "  </tbody>\n",
              "</table>\n",
              "<p>4782 rows × 6 columns</p>\n",
              "</div>\n",
              "      <button class=\"colab-df-convert\" onclick=\"convertToInteractive('df-1c6c225d-61c4-4ca7-9872-b053d0651e6d')\"\n",
              "              title=\"Convert this dataframe to an interactive table.\"\n",
              "              style=\"display:none;\">\n",
              "        \n",
              "  <svg xmlns=\"http://www.w3.org/2000/svg\" height=\"24px\"viewBox=\"0 0 24 24\"\n",
              "       width=\"24px\">\n",
              "    <path d=\"M0 0h24v24H0V0z\" fill=\"none\"/>\n",
              "    <path d=\"M18.56 5.44l.94 2.06.94-2.06 2.06-.94-2.06-.94-.94-2.06-.94 2.06-2.06.94zm-11 1L8.5 8.5l.94-2.06 2.06-.94-2.06-.94L8.5 2.5l-.94 2.06-2.06.94zm10 10l.94 2.06.94-2.06 2.06-.94-2.06-.94-.94-2.06-.94 2.06-2.06.94z\"/><path d=\"M17.41 7.96l-1.37-1.37c-.4-.4-.92-.59-1.43-.59-.52 0-1.04.2-1.43.59L10.3 9.45l-7.72 7.72c-.78.78-.78 2.05 0 2.83L4 21.41c.39.39.9.59 1.41.59.51 0 1.02-.2 1.41-.59l7.78-7.78 2.81-2.81c.8-.78.8-2.07 0-2.86zM5.41 20L4 18.59l7.72-7.72 1.47 1.35L5.41 20z\"/>\n",
              "  </svg>\n",
              "      </button>\n",
              "      \n",
              "  <style>\n",
              "    .colab-df-container {\n",
              "      display:flex;\n",
              "      flex-wrap:wrap;\n",
              "      gap: 12px;\n",
              "    }\n",
              "\n",
              "    .colab-df-convert {\n",
              "      background-color: #E8F0FE;\n",
              "      border: none;\n",
              "      border-radius: 50%;\n",
              "      cursor: pointer;\n",
              "      display: none;\n",
              "      fill: #1967D2;\n",
              "      height: 32px;\n",
              "      padding: 0 0 0 0;\n",
              "      width: 32px;\n",
              "    }\n",
              "\n",
              "    .colab-df-convert:hover {\n",
              "      background-color: #E2EBFA;\n",
              "      box-shadow: 0px 1px 2px rgba(60, 64, 67, 0.3), 0px 1px 3px 1px rgba(60, 64, 67, 0.15);\n",
              "      fill: #174EA6;\n",
              "    }\n",
              "\n",
              "    [theme=dark] .colab-df-convert {\n",
              "      background-color: #3B4455;\n",
              "      fill: #D2E3FC;\n",
              "    }\n",
              "\n",
              "    [theme=dark] .colab-df-convert:hover {\n",
              "      background-color: #434B5C;\n",
              "      box-shadow: 0px 1px 3px 1px rgba(0, 0, 0, 0.15);\n",
              "      filter: drop-shadow(0px 1px 2px rgba(0, 0, 0, 0.3));\n",
              "      fill: #FFFFFF;\n",
              "    }\n",
              "  </style>\n",
              "\n",
              "      <script>\n",
              "        const buttonEl =\n",
              "          document.querySelector('#df-1c6c225d-61c4-4ca7-9872-b053d0651e6d button.colab-df-convert');\n",
              "        buttonEl.style.display =\n",
              "          google.colab.kernel.accessAllowed ? 'block' : 'none';\n",
              "\n",
              "        async function convertToInteractive(key) {\n",
              "          const element = document.querySelector('#df-1c6c225d-61c4-4ca7-9872-b053d0651e6d');\n",
              "          const dataTable =\n",
              "            await google.colab.kernel.invokeFunction('convertToInteractive',\n",
              "                                                     [key], {});\n",
              "          if (!dataTable) return;\n",
              "\n",
              "          const docLinkHtml = 'Like what you see? Visit the ' +\n",
              "            '<a target=\"_blank\" href=https://colab.research.google.com/notebooks/data_table.ipynb>data table notebook</a>'\n",
              "            + ' to learn more about interactive tables.';\n",
              "          element.innerHTML = '';\n",
              "          dataTable['output_type'] = 'display_data';\n",
              "          await google.colab.output.renderOutput(dataTable, element);\n",
              "          const docLink = document.createElement('div');\n",
              "          docLink.innerHTML = docLinkHtml;\n",
              "          element.appendChild(docLink);\n",
              "        }\n",
              "      </script>\n",
              "    </div>\n",
              "  </div>\n",
              "  "
            ]
          },
          "metadata": {},
          "execution_count": 12
        }
      ]
    },
    {
      "cell_type": "code",
      "source": [
        "## train 데이터 생성\n",
        "i = 0\n",
        "train_label_list = []\n",
        "\n",
        "while True:\n",
        "  ## change <= 0 이면 하락 [label = 0] , change> 0 이면 상승 [label = 1]\n",
        "  try:\n",
        "    change = train_df.iloc[i+20]['Change']\n",
        "  except:\n",
        "    break\n",
        "  if change <= 0 :\n",
        "    label = 0\n",
        "  if change > 0 :\n",
        "    label = 1\n",
        "  train_label_list.append(label)\n",
        "\n",
        "  ## 하루씩 밀려가며 20일치 종가 그래프를 new_data에 저장\n",
        "  x_data = train_df[i:i+20]['Close'].values\n",
        "  min_value = min(x_data)\n",
        "  max_value = max(x_data)\n",
        "  x_data = np.array([(x_data - min_value) / (max_value - min_value)])\n",
        "  if i == 0 :\n",
        "    train_data = np.array(x_data)\n",
        "  else:\n",
        "    train_data = np.concatenate((train_data,np.array(x_data)),axis=0)\n",
        "\n",
        "  i += 1\n",
        "# train_data"
      ],
      "metadata": {
        "id": "_9ROBcTJ6SS8"
      },
      "execution_count": 26,
      "outputs": []
    },
    {
      "cell_type": "code",
      "source": [
        "## test 데이터 생성\n",
        "i = 0\n",
        "test_label_list = []\n",
        "while True:\n",
        "  ## change <= 0 이면 하락 [label = 0] , change> 0 이면 상승 [label = 1]\n",
        "  try:\n",
        "    change = test_df.iloc[i+20]['Change']\n",
        "  except:\n",
        "    break\n",
        "  if change <= 0 :\n",
        "    label = 0\n",
        "  if change > 0 :\n",
        "    label = 1\n",
        "  test_label_list.append(label)\n",
        "\n",
        "  ## 하루씩 밀려가며 20일치 종가 그래프를 new_data에 저장\n",
        "  x_data = test_df[i:i+20]['Close'].values\n",
        "  \n",
        "  min_value = min(x_data)\n",
        "  max_value = max(x_data)\n",
        "  x_data = np.array([(x_data - min_value) / (max_value - min_value)])\n",
        "\n",
        "  if i == 0 :\n",
        "    test_data = np.array(x_data)\n",
        "  else:\n",
        "    test_data = np.concatenate((test_data,np.array(x_data)),axis=0)\n",
        "\n",
        "  i += 1"
      ],
      "metadata": {
        "id": "ihEeSTvlaV65"
      },
      "execution_count": 33,
      "outputs": []
    },
    {
      "cell_type": "code",
      "source": [
        "# x_data = train_df[0:20]['Close']\n",
        "pd.DataFrame(train_data[0]).plot(figsize=(12,6), grid=True);"
      ],
      "metadata": {
        "colab": {
          "base_uri": "https://localhost:8080/",
          "height": 374
        },
        "id": "udFIVN7tsdry",
        "outputId": "3a9f6a2d-3de6-4a70-cfd7-3ba17b9f6355"
      },
      "execution_count": 32,
      "outputs": [
        {
          "output_type": "display_data",
          "data": {
            "text/plain": [
              "<Figure size 864x432 with 1 Axes>"
            ],
            "image/png": "[encoded data removed]"
          },
          "metadata": {
            "needs_background": "light"
          }
        }
      ]
    },
    {
      "cell_type": "code",
      "source": [
        "## train_data , test_data GAF를 이용하여 이미지화\n",
        "from pyts.image import GramianAngularField\n",
        "from matplotlib.pyplot import imshow\n",
        "transformer = GramianAngularField(method='difference')\n",
        "X_train_GAF = transformer.fit_transform(train_data)\n",
        "X_test_GAF = transformer.fit_transform(test_data)\n",
        "imshow(X_train_GAF[0])"
      ],
      "metadata": {
        "colab": {
          "base_uri": "https://localhost:8080/",
          "height": 283
        },
        "id": "r1Py87roOP_L",
        "outputId": "1c7c6b34-7226-4cf2-decd-a3542a4e0115"
      },
      "execution_count": 35,
      "outputs": [
        {
          "output_type": "execute_result",
          "data": {
            "text/plain": [
              "<matplotlib.image.AxesImage at 0x7f55abf4ae90>"
            ]
          },
          "metadata": {},
          "execution_count": 35
        },
        {
          "output_type": "display_data",
          "data": {
            "text/plain": [
              "<Figure size 432x288 with 1 Axes>"
            ],
            "image/png": "[encoded data removed]"
          },
          "metadata": {
            "needs_background": "light"
          }
        }
      ]
    },
    {
      "cell_type": "code",
      "source": [
        "# GAF 이미지 normalize\n",
        "X_train_GAF_L = (((X_train_GAF + 1) / 2)*255).astype(int)\n",
        "X_test_GAF_L = (((X_test_GAF + 1) / 2)*255).astype(int)\n",
        "imshow(X_train_GAF_L[0])"
      ],
      "metadata": {
        "id": "LucMTuKi-G4E",
        "colab": {
          "base_uri": "https://localhost:8080/",
          "height": 283
        },
        "outputId": "0d8906c8-d1df-472b-9b79-a64f83f2504b"
      },
      "execution_count": 36,
      "outputs": [
        {
          "output_type": "execute_result",
          "data": {
            "text/plain": [
              "<matplotlib.image.AxesImage at 0x7f55abf89210>"
            ]
          },
          "metadata": {},
          "execution_count": 36
        },
        {
          "output_type": "display_data",
          "data": {
            "text/plain": [
              "<Figure size 432x288 with 1 Axes>"
            ],
            "image/png": "[encoded data removed]"
          },
          "metadata": {
            "needs_background": "light"
          }
        }
      ]
    },
    {
      "cell_type": "code",
      "source": [
        "## \bGAF 이미지 normalize 확인\n",
        "\n",
        "np.min(X_train_GAF_L), np.max(X_train_GAF_L)"
      ],
      "metadata": {
        "colab": {
          "base_uri": "https://localhost:8080/"
        },
        "id": "d-3dKM-MN-b_",
        "outputId": "bbf0c247-2eb2-4d5d-e898-22a422a29b13"
      },
      "execution_count": 37,
      "outputs": [
        {
          "output_type": "execute_result",
          "data": {
            "text/plain": [
              "(0, 255)"
            ]
          },
          "metadata": {},
          "execution_count": 37
        }
      ]
    },
    {
      "cell_type": "code",
      "source": [
        "## data 저장 폴더 생성\n",
        "\n",
        "!mkdir gaf_images\n",
        "root_folder = 'gaf_images'"
      ],
      "metadata": {
        "id": "WNCppU2qiLC8"
      },
      "execution_count": 38,
      "outputs": []
    },
    {
      "cell_type": "code",
      "source": [
        "# train / test data check\n",
        "print(len(train_label_list))\n",
        "print(len(test_label_list))"
      ],
      "metadata": {
        "colab": {
          "base_uri": "https://localhost:8080/"
        },
        "id": "js6oR4EVorm0",
        "outputId": "f4e85010-57fb-4724-c376-b1f35a2853a2"
      },
      "execution_count": 40,
      "outputs": [
        {
          "output_type": "stream",
          "name": "stdout",
          "text": [
            "4762\n",
            "1239\n"
          ]
        }
      ]
    },
    {
      "cell_type": "markdown",
      "source": [
        "# 3. Train (fit)"
      ],
      "metadata": {
        "id": "jRdcqlA-J72k"
      }
    },
    {
      "cell_type": "code",
      "source": [
        "# save train set images (e.g., train/class_name/0.png)\n",
        "\n",
        "for i in range(len(train_label_list)):\n",
        "     \n",
        "    # define file names\n",
        "    image_file_name = str(i) + '.png'\n",
        "\n",
        "    # define folder names\n",
        "    class_folder_name = str(train_label_list[i])\n",
        "    full_path = os.path.join(root_folder, 'train')\n",
        "    full_path = os.path.join(full_path, class_folder_name)\n",
        "    \n",
        "    # make folders\n",
        "    if not os.path.exists(full_path):\n",
        "        os.makedirs(full_path)\n",
        "\n",
        "    # save images\n",
        "    image_file_name_with_full_path = os.path.join(full_path, image_file_name)\n",
        "    plt.imsave(image_file_name_with_full_path, X_train_GAF_L[i])"
      ],
      "metadata": {
        "id": "PL-yHtcB-a2l"
      },
      "execution_count": 41,
      "outputs": []
    },
    {
      "cell_type": "code",
      "source": [
        "# save test set images (e.g., test/class_name/0.png)\n",
        "\n",
        "for i in range(len(test_label_list)):\n",
        "     \n",
        "    # define file names\n",
        "    image_file_name = str(i) + '.png'\n",
        "\n",
        "    # define folder names\n",
        "    class_folder_name = str(test_label_list[i])\n",
        "    full_path = os.path.join(root_folder, 'test')\n",
        "    full_path = os.path.join(full_path, class_folder_name)\n",
        "    \n",
        "    # make folders\n",
        "    if not os.path.exists(full_path):\n",
        "        os.makedirs(full_path)\n",
        "\n",
        "    # save images\n",
        "    image_file_name_with_full_path = os.path.join(full_path, image_file_name)\n",
        "    plt.imsave(image_file_name_with_full_path, X_test_GAF_L[i])"
      ],
      "metadata": {
        "id": "9xaNm5v1_Y9C"
      },
      "execution_count": 42,
      "outputs": []
    },
    {
      "cell_type": "markdown",
      "source": [
        "# 4. Predict future"
      ],
      "metadata": {
        "id": "iz0nz0czKTZc"
      }
    },
    {
      "cell_type": "code",
      "source": [
        "# data block settings\n",
        "\n",
        "my_random_seed = 32\n",
        "my_batch_size = 32"
      ],
      "metadata": {
        "id": "RY3uUkx8AQxb"
      },
      "execution_count": 43,
      "outputs": []
    },
    {
      "cell_type": "code",
      "source": [
        "from fastai.vision.data import ImageDataLoaders"
      ],
      "metadata": {
        "id": "UhRXk1h-AcFg",
        "colab": {
          "base_uri": "https://localhost:8080/",
          "height": 305
        },
        "outputId": "1a118348-cc55-4b07-c35d-d9d93ab5b2c0"
      },
      "execution_count": 46,
      "outputs": [
        {
          "output_type": "error",
          "ename": "ImportError",
          "evalue": "ignored",
          "traceback": [
            "\u001b[0;31m---------------------------------------------------------------------------\u001b[0m",
            "\u001b[0;31mImportError\u001b[0m                               Traceback (most recent call last)",
            "\u001b[0;32m<ipython-input-46-7a1fd77c6089>\u001b[0m in \u001b[0;36m<module>\u001b[0;34m()\u001b[0m\n\u001b[0;32m----> 1\u001b[0;31m \u001b[0;32mfrom\u001b[0m \u001b[0mfastai\u001b[0m\u001b[0;34m.\u001b[0m\u001b[0mvision\u001b[0m\u001b[0;34m.\u001b[0m\u001b[0mdata\u001b[0m \u001b[0;32mimport\u001b[0m \u001b[0mImageDataLoaders\u001b[0m\u001b[0;34m\u001b[0m\u001b[0;34m\u001b[0m\u001b[0m\n\u001b[0m",
            "\u001b[0;31mImportError\u001b[0m: cannot import name 'ImageDataLoaders' from 'fastai.vision.data' (/usr/local/lib/python3.7/dist-packages/fastai/vision/data.py)",
            "",
            "\u001b[0;31m---------------------------------------------------------------------------\u001b[0;32m\nNOTE: If your import is failing due to a missing package, you can\nmanually install dependencies using either !pip or !apt.\n\nTo view examples of installing some common dependencies, click the\n\"Open Examples\" button below.\n\u001b[0;31m---------------------------------------------------------------------------\u001b[0m\n"
          ],
          "errorDetails": {
            "actions": [
              {
                "action": "open_url",
                "actionText": "Open Examples",
                "url": "/notebooks/snippets/importing_libraries.ipynb"
              }
            ]
          }
        }
      ]
    },
    {
      "cell_type": "code",
      "source": [
        "# predict\n",
        "\n",
        "forecast = myprophet.predict(future)\n",
        "forecast"
      ],
      "metadata": {
        "id": "p7ZfiZ-tA1vF"
      },
      "execution_count": null,
      "outputs": []
    },
    {
      "cell_type": "code",
      "source": [
        "# plot forecast\n",
        "\n",
        "myprophet.plot(forecast);"
      ],
      "metadata": {
        "id": "ydQVWrhGAmF0"
      },
      "execution_count": null,
      "outputs": []
    },
    {
      "cell_type": "code",
      "source": [
        "# plot components of forecast\n",
        "\n",
        "myprophet.plot_components(forecast);"
      ],
      "metadata": {
        "id": "FmijGTMbAssE"
      },
      "execution_count": null,
      "outputs": []
    },
    {
      "cell_type": "code",
      "source": [
        "# compare actual and forecast\n",
        "\n",
        "plt.figure(figsize=(12,6))\n",
        "plt.plot(df_mystock.index, df_mystock['Close'], label='actual')\n",
        "plt.plot(forecast['ds'], forecast['yhat'], label='forecast')\n",
        "plt.grid()\n",
        "plt.legend()\n",
        "plt.show()"
      ],
      "metadata": {
        "id": "O8a1NVAvBH4q"
      },
      "execution_count": null,
      "outputs": []
    }
  ]
}
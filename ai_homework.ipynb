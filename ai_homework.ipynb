{
  "nbformat": 4,
  "nbformat_minor": 0,
  "metadata": {
    "colab": {
      "name": "EC5320_2022_1_Week6a_Prophet_v2_FOR_TEACHING.ipynb",
      "provenance": [],
      "collapsed_sections": [],
      "include_colab_link": true
    },
    "kernelspec": {
      "name": "python3",
      "display_name": "Python 3"
    },
    "language_info": {
      "name": "python"
    }
  },
  "cells": [
    {
      "cell_type": "markdown",
      "metadata": {
        "id": "view-in-github",
        "colab_type": "text"
      },
      "source": [
        "<a href=\"https://colab.research.google.com/github/kdh4672/economy_ai/blob/main/ai_homework.ipynb\" target=\"_parent\"><img src=\"https://colab.research.google.com/assets/colab-badge.svg\" alt=\"Open In Colab\"/></a>"
      ]
    },
    {
      "cell_type": "markdown",
      "source": [
        "#EC5320 Week6a codes: Time series future prediction (Facebook Prophet)\n",
        "\n",
        "2022.4.6.<br>\n",
        "\n",
        "Author: Hyunjoo Yang (hyang@sogang.ac.kr)<br><br>\n",
        "\n",
        "This notebook uses Facebook's Prophet to predict future stock prices.<br><br>\n",
        "\n",
        "For Facebook's Prophet, refer to:<br>\n",
        "https://facebook.github.io/prophet/ <br><br>\n",
        "\n",
        "Codes are based on: <br>\n",
        "https://github.com/PinkWink/DataScience/blob/master/source_code/07.%20Time%20Series%20Data%20Handle.ipynb <br>"
      ],
      "metadata": {
        "id": "kJhpwrCqEvpr"
      }
    },
    {
      "cell_type": "markdown",
      "source": [
        "# 1. Import"
      ],
      "metadata": {
        "id": "QahKeFvYF2N8"
      }
    },
    {
      "cell_type": "code",
      "source": [
        "!pip install finance-datareader\n",
        "!pip install pyts"
      ],
      "metadata": {
        "colab": {
          "base_uri": "https://localhost:8080/"
        },
        "id": "FtPKHphY5kUv",
        "outputId": "932401cb-9b36-46b2-9924-4e2b6ee2a350"
      },
      "execution_count": null,
      "outputs": [
        {
          "output_type": "stream",
          "name": "stdout",
          "text": [
            "Collecting finance-datareader\n",
            "  Downloading finance_datareader-0.9.33-py3-none-any.whl (48 kB)\n",
            "\u001b[?25l\r\u001b[K     |██████▊                         | 10 kB 14.1 MB/s eta 0:00:01\r\u001b[K     |█████████████▍                  | 20 kB 10.8 MB/s eta 0:00:01\r\u001b[K     |████████████████████▏           | 30 kB 7.1 MB/s eta 0:00:01\r\u001b[K     |██████████████████████████▉     | 40 kB 7.9 MB/s eta 0:00:01\r\u001b[K     |████████████████████████████████| 48 kB 2.6 MB/s \n",
            "\u001b[?25hCollecting requests-file\n",
            "  Downloading requests_file-1.5.1-py2.py3-none-any.whl (3.7 kB)\n",
            "Requirement already satisfied: tqdm in /usr/local/lib/python3.7/dist-packages (from finance-datareader) (4.63.0)\n",
            "Requirement already satisfied: lxml in /usr/local/lib/python3.7/dist-packages (from finance-datareader) (4.2.6)\n",
            "Requirement already satisfied: requests>=2.3.0 in /usr/local/lib/python3.7/dist-packages (from finance-datareader) (2.23.0)\n",
            "Requirement already satisfied: pandas>=0.19.2 in /usr/local/lib/python3.7/dist-packages (from finance-datareader) (1.3.5)\n",
            "Requirement already satisfied: numpy>=1.17.3 in /usr/local/lib/python3.7/dist-packages (from pandas>=0.19.2->finance-datareader) (1.21.5)\n",
            "Requirement already satisfied: pytz>=2017.3 in /usr/local/lib/python3.7/dist-packages (from pandas>=0.19.2->finance-datareader) (2018.9)\n",
            "Requirement already satisfied: python-dateutil>=2.7.3 in /usr/local/lib/python3.7/dist-packages (from pandas>=0.19.2->finance-datareader) (2.8.2)\n",
            "Requirement already satisfied: six>=1.5 in /usr/local/lib/python3.7/dist-packages (from python-dateutil>=2.7.3->pandas>=0.19.2->finance-datareader) (1.15.0)\n",
            "Requirement already satisfied: urllib3!=1.25.0,!=1.25.1,<1.26,>=1.21.1 in /usr/local/lib/python3.7/dist-packages (from requests>=2.3.0->finance-datareader) (1.24.3)\n",
            "Requirement already satisfied: idna<3,>=2.5 in /usr/local/lib/python3.7/dist-packages (from requests>=2.3.0->finance-datareader) (2.10)\n",
            "Requirement already satisfied: certifi>=2017.4.17 in /usr/local/lib/python3.7/dist-packages (from requests>=2.3.0->finance-datareader) (2021.10.8)\n",
            "Requirement already satisfied: chardet<4,>=3.0.2 in /usr/local/lib/python3.7/dist-packages (from requests>=2.3.0->finance-datareader) (3.0.4)\n",
            "Installing collected packages: requests-file, finance-datareader\n",
            "Successfully installed finance-datareader-0.9.33 requests-file-1.5.1\n"
          ]
        }
      ]
    },
    {
      "cell_type": "code",
      "execution_count": 110,
      "metadata": {
        "id": "YMbc5B0t8uj2"
      },
      "outputs": [],
      "source": [
        "import pandas as pd\n",
        "import pandas_datareader as pdr\n",
        "import numpy as np\n",
        "import matplotlib.pyplot as plt\n",
        "from fbprophet import Prophet\n",
        "from datetime import datetime\n",
        "import FinanceDataReader as fdr\n",
        "import os"
      ]
    },
    {
      "cell_type": "markdown",
      "source": [
        "# 2. Data preparation"
      ],
      "metadata": {
        "id": "ASnELc3KF6VK"
      }
    },
    {
      "cell_type": "code",
      "source": [
        "# S&P 지수 1997~2016을 train으로 load\n",
        "# S&P 지수 2017~2022를 train으로 load\n",
        "\n",
        "train_df = fdr.DataReader('SPY', '1997','2016')\n",
        "test_df = fdr.DataReader('SPY', '2017','2022')"
      ],
      "metadata": {
        "id": "ysPe9htS873r"
      },
      "execution_count": 111,
      "outputs": []
    },
    {
      "cell_type": "code",
      "source": [
        "# check dtypes of variables\n",
        "print(train_df.dtypes)\n",
        "train_df"
      ],
      "metadata": {
        "id": "EdxUe3KV-fnq",
        "colab": {
          "base_uri": "https://localhost:8080/",
          "height": 576
        },
        "outputId": "b96f2860-2f75-4701-8211-bdfc249a434f"
      },
      "execution_count": 112,
      "outputs": [
        {
          "output_type": "stream",
          "name": "stdout",
          "text": [
            "Close     float64\n",
            "Open      float64\n",
            "High      float64\n",
            "Low       float64\n",
            "Volume    float64\n",
            "Change    float64\n",
            "dtype: object\n"
          ]
        },
        {
          "output_type": "execute_result",
          "data": {
            "text/plain": [
              "             Close    Open    High     Low       Volume  Change\n",
              "Date                                                           \n",
              "1997-01-02   74.03   74.38   74.38   72.75    2030000.0  0.0026\n",
              "1997-01-03   75.09   74.38   75.12   74.08    2120000.0  0.0143\n",
              "1997-01-06   74.44   75.09   75.44   74.31    1370000.0 -0.0087\n",
              "1997-01-07   75.34   74.44   75.47   74.12     939000.0  0.0121\n",
              "1997-01-08   74.69   75.75   75.78   74.69    1800000.0 -0.0086\n",
              "...            ...     ...     ...     ...          ...     ...\n",
              "2015-12-24  205.68  205.72  206.33  205.42   48540000.0 -0.0017\n",
              "2015-12-28  205.21  204.86  205.26  203.94   65900000.0 -0.0023\n",
              "2015-12-29  207.40  206.51  207.79  206.47   92640000.0  0.0107\n",
              "2015-12-30  205.93  207.11  207.21  205.76   63320000.0 -0.0071\n",
              "2015-12-31  203.87  205.13  205.89  203.87  114880000.0 -0.0100\n",
              "\n",
              "[4782 rows x 6 columns]"
            ],
            "text/html": [
              "\n",
              "  <div id=\"df-f6eeea6e-3afb-479f-be0e-936501611c07\">\n",
              "    <div class=\"colab-df-container\">\n",
              "      <div>\n",
              "<style scoped>\n",
              "    .dataframe tbody tr th:only-of-type {\n",
              "        vertical-align: middle;\n",
              "    }\n",
              "\n",
              "    .dataframe tbody tr th {\n",
              "        vertical-align: top;\n",
              "    }\n",
              "\n",
              "    .dataframe thead th {\n",
              "        text-align: right;\n",
              "    }\n",
              "</style>\n",
              "<table border=\"1\" class=\"dataframe\">\n",
              "  <thead>\n",
              "    <tr style=\"text-align: right;\">\n",
              "      <th></th>\n",
              "      <th>Close</th>\n",
              "      <th>Open</th>\n",
              "      <th>High</th>\n",
              "      <th>Low</th>\n",
              "      <th>Volume</th>\n",
              "      <th>Change</th>\n",
              "    </tr>\n",
              "    <tr>\n",
              "      <th>Date</th>\n",
              "      <th></th>\n",
              "      <th></th>\n",
              "      <th></th>\n",
              "      <th></th>\n",
              "      <th></th>\n",
              "      <th></th>\n",
              "    </tr>\n",
              "  </thead>\n",
              "  <tbody>\n",
              "    <tr>\n",
              "      <th>1997-01-02</th>\n",
              "      <td>74.03</td>\n",
              "      <td>74.38</td>\n",
              "      <td>74.38</td>\n",
              "      <td>72.75</td>\n",
              "      <td>2030000.0</td>\n",
              "      <td>0.0026</td>\n",
              "    </tr>\n",
              "    <tr>\n",
              "      <th>1997-01-03</th>\n",
              "      <td>75.09</td>\n",
              "      <td>74.38</td>\n",
              "      <td>75.12</td>\n",
              "      <td>74.08</td>\n",
              "      <td>2120000.0</td>\n",
              "      <td>0.0143</td>\n",
              "    </tr>\n",
              "    <tr>\n",
              "      <th>1997-01-06</th>\n",
              "      <td>74.44</td>\n",
              "      <td>75.09</td>\n",
              "      <td>75.44</td>\n",
              "      <td>74.31</td>\n",
              "      <td>1370000.0</td>\n",
              "      <td>-0.0087</td>\n",
              "    </tr>\n",
              "    <tr>\n",
              "      <th>1997-01-07</th>\n",
              "      <td>75.34</td>\n",
              "      <td>74.44</td>\n",
              "      <td>75.47</td>\n",
              "      <td>74.12</td>\n",
              "      <td>939000.0</td>\n",
              "      <td>0.0121</td>\n",
              "    </tr>\n",
              "    <tr>\n",
              "      <th>1997-01-08</th>\n",
              "      <td>74.69</td>\n",
              "      <td>75.75</td>\n",
              "      <td>75.78</td>\n",
              "      <td>74.69</td>\n",
              "      <td>1800000.0</td>\n",
              "      <td>-0.0086</td>\n",
              "    </tr>\n",
              "    <tr>\n",
              "      <th>...</th>\n",
              "      <td>...</td>\n",
              "      <td>...</td>\n",
              "      <td>...</td>\n",
              "      <td>...</td>\n",
              "      <td>...</td>\n",
              "      <td>...</td>\n",
              "    </tr>\n",
              "    <tr>\n",
              "      <th>2015-12-24</th>\n",
              "      <td>205.68</td>\n",
              "      <td>205.72</td>\n",
              "      <td>206.33</td>\n",
              "      <td>205.42</td>\n",
              "      <td>48540000.0</td>\n",
              "      <td>-0.0017</td>\n",
              "    </tr>\n",
              "    <tr>\n",
              "      <th>2015-12-28</th>\n",
              "      <td>205.21</td>\n",
              "      <td>204.86</td>\n",
              "      <td>205.26</td>\n",
              "      <td>203.94</td>\n",
              "      <td>65900000.0</td>\n",
              "      <td>-0.0023</td>\n",
              "    </tr>\n",
              "    <tr>\n",
              "      <th>2015-12-29</th>\n",
              "      <td>207.40</td>\n",
              "      <td>206.51</td>\n",
              "      <td>207.79</td>\n",
              "      <td>206.47</td>\n",
              "      <td>92640000.0</td>\n",
              "      <td>0.0107</td>\n",
              "    </tr>\n",
              "    <tr>\n",
              "      <th>2015-12-30</th>\n",
              "      <td>205.93</td>\n",
              "      <td>207.11</td>\n",
              "      <td>207.21</td>\n",
              "      <td>205.76</td>\n",
              "      <td>63320000.0</td>\n",
              "      <td>-0.0071</td>\n",
              "    </tr>\n",
              "    <tr>\n",
              "      <th>2015-12-31</th>\n",
              "      <td>203.87</td>\n",
              "      <td>205.13</td>\n",
              "      <td>205.89</td>\n",
              "      <td>203.87</td>\n",
              "      <td>114880000.0</td>\n",
              "      <td>-0.0100</td>\n",
              "    </tr>\n",
              "  </tbody>\n",
              "</table>\n",
              "<p>4782 rows × 6 columns</p>\n",
              "</div>\n",
              "      <button class=\"colab-df-convert\" onclick=\"convertToInteractive('df-f6eeea6e-3afb-479f-be0e-936501611c07')\"\n",
              "              title=\"Convert this dataframe to an interactive table.\"\n",
              "              style=\"display:none;\">\n",
              "        \n",
              "  <svg xmlns=\"http://www.w3.org/2000/svg\" height=\"24px\"viewBox=\"0 0 24 24\"\n",
              "       width=\"24px\">\n",
              "    <path d=\"M0 0h24v24H0V0z\" fill=\"none\"/>\n",
              "    <path d=\"M18.56 5.44l.94 2.06.94-2.06 2.06-.94-2.06-.94-.94-2.06-.94 2.06-2.06.94zm-11 1L8.5 8.5l.94-2.06 2.06-.94-2.06-.94L8.5 2.5l-.94 2.06-2.06.94zm10 10l.94 2.06.94-2.06 2.06-.94-2.06-.94-.94-2.06-.94 2.06-2.06.94z\"/><path d=\"M17.41 7.96l-1.37-1.37c-.4-.4-.92-.59-1.43-.59-.52 0-1.04.2-1.43.59L10.3 9.45l-7.72 7.72c-.78.78-.78 2.05 0 2.83L4 21.41c.39.39.9.59 1.41.59.51 0 1.02-.2 1.41-.59l7.78-7.78 2.81-2.81c.8-.78.8-2.07 0-2.86zM5.41 20L4 18.59l7.72-7.72 1.47 1.35L5.41 20z\"/>\n",
              "  </svg>\n",
              "      </button>\n",
              "      \n",
              "  <style>\n",
              "    .colab-df-container {\n",
              "      display:flex;\n",
              "      flex-wrap:wrap;\n",
              "      gap: 12px;\n",
              "    }\n",
              "\n",
              "    .colab-df-convert {\n",
              "      background-color: #E8F0FE;\n",
              "      border: none;\n",
              "      border-radius: 50%;\n",
              "      cursor: pointer;\n",
              "      display: none;\n",
              "      fill: #1967D2;\n",
              "      height: 32px;\n",
              "      padding: 0 0 0 0;\n",
              "      width: 32px;\n",
              "    }\n",
              "\n",
              "    .colab-df-convert:hover {\n",
              "      background-color: #E2EBFA;\n",
              "      box-shadow: 0px 1px 2px rgba(60, 64, 67, 0.3), 0px 1px 3px 1px rgba(60, 64, 67, 0.15);\n",
              "      fill: #174EA6;\n",
              "    }\n",
              "\n",
              "    [theme=dark] .colab-df-convert {\n",
              "      background-color: #3B4455;\n",
              "      fill: #D2E3FC;\n",
              "    }\n",
              "\n",
              "    [theme=dark] .colab-df-convert:hover {\n",
              "      background-color: #434B5C;\n",
              "      box-shadow: 0px 1px 3px 1px rgba(0, 0, 0, 0.15);\n",
              "      filter: drop-shadow(0px 1px 2px rgba(0, 0, 0, 0.3));\n",
              "      fill: #FFFFFF;\n",
              "    }\n",
              "  </style>\n",
              "\n",
              "      <script>\n",
              "        const buttonEl =\n",
              "          document.querySelector('#df-f6eeea6e-3afb-479f-be0e-936501611c07 button.colab-df-convert');\n",
              "        buttonEl.style.display =\n",
              "          google.colab.kernel.accessAllowed ? 'block' : 'none';\n",
              "\n",
              "        async function convertToInteractive(key) {\n",
              "          const element = document.querySelector('#df-f6eeea6e-3afb-479f-be0e-936501611c07');\n",
              "          const dataTable =\n",
              "            await google.colab.kernel.invokeFunction('convertToInteractive',\n",
              "                                                     [key], {});\n",
              "          if (!dataTable) return;\n",
              "\n",
              "          const docLinkHtml = 'Like what you see? Visit the ' +\n",
              "            '<a target=\"_blank\" href=https://colab.research.google.com/notebooks/data_table.ipynb>data table notebook</a>'\n",
              "            + ' to learn more about interactive tables.';\n",
              "          element.innerHTML = '';\n",
              "          dataTable['output_type'] = 'display_data';\n",
              "          await google.colab.output.renderOutput(dataTable, element);\n",
              "          const docLink = document.createElement('div');\n",
              "          docLink.innerHTML = docLinkHtml;\n",
              "          element.appendChild(docLink);\n",
              "        }\n",
              "      </script>\n",
              "    </div>\n",
              "  </div>\n",
              "  "
            ]
          },
          "metadata": {},
          "execution_count": 112
        }
      ]
    },
    {
      "cell_type": "code",
      "source": [
        "## S&P 20일의 종가 그래프\n",
        "x_data = train_df[0:20]['Close']\n",
        "x_data.plot(figsize=(12,6), grid=True);"
      ],
      "metadata": {
        "colab": {
          "base_uri": "https://localhost:8080/",
          "height": 421
        },
        "id": "OCNPcJPfUu2Y",
        "outputId": "391988c3-dc7b-4a4f-ef0c-c02b4ff2df6c"
      },
      "execution_count": 113,
      "outputs": [
        {
          "output_type": "display_data",
          "data": {
            "text/plain": [
              "<Figure size 864x432 with 1 Axes>"
            ],
            "image/png": "[encoded data removed]"
          },
          "metadata": {
            "needs_background": "light"
          }
        }
      ]
    },
    {
      "cell_type": "code",
      "source": [
        "train_df.iloc[:, 1:].shape\n",
        "train_df"
      ],
      "metadata": {
        "id": "Uj5_i7bMsC-S",
        "outputId": "aa893492-84d0-463d-b2fd-ddcdce134550",
        "colab": {
          "base_uri": "https://localhost:8080/",
          "height": 455
        }
      },
      "execution_count": 134,
      "outputs": [
        {
          "output_type": "execute_result",
          "data": {
            "text/plain": [
              "             Close    Open    High     Low       Volume  Change\n",
              "Date                                                           \n",
              "1997-01-02   74.03   74.38   74.38   72.75    2030000.0  0.0026\n",
              "1997-01-03   75.09   74.38   75.12   74.08    2120000.0  0.0143\n",
              "1997-01-06   74.44   75.09   75.44   74.31    1370000.0 -0.0087\n",
              "1997-01-07   75.34   74.44   75.47   74.12     939000.0  0.0121\n",
              "1997-01-08   74.69   75.75   75.78   74.69    1800000.0 -0.0086\n",
              "...            ...     ...     ...     ...          ...     ...\n",
              "2015-12-24  205.68  205.72  206.33  205.42   48540000.0 -0.0017\n",
              "2015-12-28  205.21  204.86  205.26  203.94   65900000.0 -0.0023\n",
              "2015-12-29  207.40  206.51  207.79  206.47   92640000.0  0.0107\n",
              "2015-12-30  205.93  207.11  207.21  205.76   63320000.0 -0.0071\n",
              "2015-12-31  203.87  205.13  205.89  203.87  114880000.0 -0.0100\n",
              "\n",
              "[4782 rows x 6 columns]"
            ],
            "text/html": [
              "\n",
              "  <div id=\"df-485e53ee-2b0a-4e30-9501-eb7fa6bf1093\">\n",
              "    <div class=\"colab-df-container\">\n",
              "      <div>\n",
              "<style scoped>\n",
              "    .dataframe tbody tr th:only-of-type {\n",
              "        vertical-align: middle;\n",
              "    }\n",
              "\n",
              "    .dataframe tbody tr th {\n",
              "        vertical-align: top;\n",
              "    }\n",
              "\n",
              "    .dataframe thead th {\n",
              "        text-align: right;\n",
              "    }\n",
              "</style>\n",
              "<table border=\"1\" class=\"dataframe\">\n",
              "  <thead>\n",
              "    <tr style=\"text-align: right;\">\n",
              "      <th></th>\n",
              "      <th>Close</th>\n",
              "      <th>Open</th>\n",
              "      <th>High</th>\n",
              "      <th>Low</th>\n",
              "      <th>Volume</th>\n",
              "      <th>Change</th>\n",
              "    </tr>\n",
              "    <tr>\n",
              "      <th>Date</th>\n",
              "      <th></th>\n",
              "      <th></th>\n",
              "      <th></th>\n",
              "      <th></th>\n",
              "      <th></th>\n",
              "      <th></th>\n",
              "    </tr>\n",
              "  </thead>\n",
              "  <tbody>\n",
              "    <tr>\n",
              "      <th>1997-01-02</th>\n",
              "      <td>74.03</td>\n",
              "      <td>74.38</td>\n",
              "      <td>74.38</td>\n",
              "      <td>72.75</td>\n",
              "      <td>2030000.0</td>\n",
              "      <td>0.0026</td>\n",
              "    </tr>\n",
              "    <tr>\n",
              "      <th>1997-01-03</th>\n",
              "      <td>75.09</td>\n",
              "      <td>74.38</td>\n",
              "      <td>75.12</td>\n",
              "      <td>74.08</td>\n",
              "      <td>2120000.0</td>\n",
              "      <td>0.0143</td>\n",
              "    </tr>\n",
              "    <tr>\n",
              "      <th>1997-01-06</th>\n",
              "      <td>74.44</td>\n",
              "      <td>75.09</td>\n",
              "      <td>75.44</td>\n",
              "      <td>74.31</td>\n",
              "      <td>1370000.0</td>\n",
              "      <td>-0.0087</td>\n",
              "    </tr>\n",
              "    <tr>\n",
              "      <th>1997-01-07</th>\n",
              "      <td>75.34</td>\n",
              "      <td>74.44</td>\n",
              "      <td>75.47</td>\n",
              "      <td>74.12</td>\n",
              "      <td>939000.0</td>\n",
              "      <td>0.0121</td>\n",
              "    </tr>\n",
              "    <tr>\n",
              "      <th>1997-01-08</th>\n",
              "      <td>74.69</td>\n",
              "      <td>75.75</td>\n",
              "      <td>75.78</td>\n",
              "      <td>74.69</td>\n",
              "      <td>1800000.0</td>\n",
              "      <td>-0.0086</td>\n",
              "    </tr>\n",
              "    <tr>\n",
              "      <th>...</th>\n",
              "      <td>...</td>\n",
              "      <td>...</td>\n",
              "      <td>...</td>\n",
              "      <td>...</td>\n",
              "      <td>...</td>\n",
              "      <td>...</td>\n",
              "    </tr>\n",
              "    <tr>\n",
              "      <th>2015-12-24</th>\n",
              "      <td>205.68</td>\n",
              "      <td>205.72</td>\n",
              "      <td>206.33</td>\n",
              "      <td>205.42</td>\n",
              "      <td>48540000.0</td>\n",
              "      <td>-0.0017</td>\n",
              "    </tr>\n",
              "    <tr>\n",
              "      <th>2015-12-28</th>\n",
              "      <td>205.21</td>\n",
              "      <td>204.86</td>\n",
              "      <td>205.26</td>\n",
              "      <td>203.94</td>\n",
              "      <td>65900000.0</td>\n",
              "      <td>-0.0023</td>\n",
              "    </tr>\n",
              "    <tr>\n",
              "      <th>2015-12-29</th>\n",
              "      <td>207.40</td>\n",
              "      <td>206.51</td>\n",
              "      <td>207.79</td>\n",
              "      <td>206.47</td>\n",
              "      <td>92640000.0</td>\n",
              "      <td>0.0107</td>\n",
              "    </tr>\n",
              "    <tr>\n",
              "      <th>2015-12-30</th>\n",
              "      <td>205.93</td>\n",
              "      <td>207.11</td>\n",
              "      <td>207.21</td>\n",
              "      <td>205.76</td>\n",
              "      <td>63320000.0</td>\n",
              "      <td>-0.0071</td>\n",
              "    </tr>\n",
              "    <tr>\n",
              "      <th>2015-12-31</th>\n",
              "      <td>203.87</td>\n",
              "      <td>205.13</td>\n",
              "      <td>205.89</td>\n",
              "      <td>203.87</td>\n",
              "      <td>114880000.0</td>\n",
              "      <td>-0.0100</td>\n",
              "    </tr>\n",
              "  </tbody>\n",
              "</table>\n",
              "<p>4782 rows × 6 columns</p>\n",
              "</div>\n",
              "      <button class=\"colab-df-convert\" onclick=\"convertToInteractive('df-485e53ee-2b0a-4e30-9501-eb7fa6bf1093')\"\n",
              "              title=\"Convert this dataframe to an interactive table.\"\n",
              "              style=\"display:none;\">\n",
              "        \n",
              "  <svg xmlns=\"http://www.w3.org/2000/svg\" height=\"24px\"viewBox=\"0 0 24 24\"\n",
              "       width=\"24px\">\n",
              "    <path d=\"M0 0h24v24H0V0z\" fill=\"none\"/>\n",
              "    <path d=\"M18.56 5.44l.94 2.06.94-2.06 2.06-.94-2.06-.94-.94-2.06-.94 2.06-2.06.94zm-11 1L8.5 8.5l.94-2.06 2.06-.94-2.06-.94L8.5 2.5l-.94 2.06-2.06.94zm10 10l.94 2.06.94-2.06 2.06-.94-2.06-.94-.94-2.06-.94 2.06-2.06.94z\"/><path d=\"M17.41 7.96l-1.37-1.37c-.4-.4-.92-.59-1.43-.59-.52 0-1.04.2-1.43.59L10.3 9.45l-7.72 7.72c-.78.78-.78 2.05 0 2.83L4 21.41c.39.39.9.59 1.41.59.51 0 1.02-.2 1.41-.59l7.78-7.78 2.81-2.81c.8-.78.8-2.07 0-2.86zM5.41 20L4 18.59l7.72-7.72 1.47 1.35L5.41 20z\"/>\n",
              "  </svg>\n",
              "      </button>\n",
              "      \n",
              "  <style>\n",
              "    .colab-df-container {\n",
              "      display:flex;\n",
              "      flex-wrap:wrap;\n",
              "      gap: 12px;\n",
              "    }\n",
              "\n",
              "    .colab-df-convert {\n",
              "      background-color: #E8F0FE;\n",
              "      border: none;\n",
              "      border-radius: 50%;\n",
              "      cursor: pointer;\n",
              "      display: none;\n",
              "      fill: #1967D2;\n",
              "      height: 32px;\n",
              "      padding: 0 0 0 0;\n",
              "      width: 32px;\n",
              "    }\n",
              "\n",
              "    .colab-df-convert:hover {\n",
              "      background-color: #E2EBFA;\n",
              "      box-shadow: 0px 1px 2px rgba(60, 64, 67, 0.3), 0px 1px 3px 1px rgba(60, 64, 67, 0.15);\n",
              "      fill: #174EA6;\n",
              "    }\n",
              "\n",
              "    [theme=dark] .colab-df-convert {\n",
              "      background-color: #3B4455;\n",
              "      fill: #D2E3FC;\n",
              "    }\n",
              "\n",
              "    [theme=dark] .colab-df-convert:hover {\n",
              "      background-color: #434B5C;\n",
              "      box-shadow: 0px 1px 3px 1px rgba(0, 0, 0, 0.15);\n",
              "      filter: drop-shadow(0px 1px 2px rgba(0, 0, 0, 0.3));\n",
              "      fill: #FFFFFF;\n",
              "    }\n",
              "  </style>\n",
              "\n",
              "      <script>\n",
              "        const buttonEl =\n",
              "          document.querySelector('#df-485e53ee-2b0a-4e30-9501-eb7fa6bf1093 button.colab-df-convert');\n",
              "        buttonEl.style.display =\n",
              "          google.colab.kernel.accessAllowed ? 'block' : 'none';\n",
              "\n",
              "        async function convertToInteractive(key) {\n",
              "          const element = document.querySelector('#df-485e53ee-2b0a-4e30-9501-eb7fa6bf1093');\n",
              "          const dataTable =\n",
              "            await google.colab.kernel.invokeFunction('convertToInteractive',\n",
              "                                                     [key], {});\n",
              "          if (!dataTable) return;\n",
              "\n",
              "          const docLinkHtml = 'Like what you see? Visit the ' +\n",
              "            '<a target=\"_blank\" href=https://colab.research.google.com/notebooks/data_table.ipynb>data table notebook</a>'\n",
              "            + ' to learn more about interactive tables.';\n",
              "          element.innerHTML = '';\n",
              "          dataTable['output_type'] = 'display_data';\n",
              "          await google.colab.output.renderOutput(dataTable, element);\n",
              "          const docLink = document.createElement('div');\n",
              "          docLink.innerHTML = docLinkHtml;\n",
              "          element.appendChild(docLink);\n",
              "        }\n",
              "      </script>\n",
              "    </div>\n",
              "  </div>\n",
              "  "
            ]
          },
          "metadata": {},
          "execution_count": 134
        }
      ]
    },
    {
      "cell_type": "code",
      "source": [
        "from sklearn.preprocessing import MinMaxScaler\n",
        "\n",
        "# load scaler\n",
        "scaler = MinMaxScaler()\n",
        "# fit\n",
        "scaler.fit(train_df.iloc[:, :]) # fit on entire(x) only train set to get common min and max values\n",
        "# : 전체 로우 다 쓸거다 , 1: 첫번째 컬럼부터 쓸거다\n",
        "# 0 ~ 1 사이로 scaling\n",
        "\n",
        "# transform dataframes (take out first column which is label)\n",
        "# X_train = pd.DataFrame(scaler.transform(train_df.iloc[:, 1:]), dtype='float32')\n",
        "train_df = pd.DataFrame(scaler.fit_transform(train_df.iloc[:,:]), dtype='float32')\n",
        "test_df = pd.DataFrame(scaler.transform(test_df.iloc[:, :]), dtype='float32')\n"
      ],
      "metadata": {
        "id": "VhJyRIHsrxMQ"
      },
      "execution_count": 136,
      "outputs": []
    },
    {
      "cell_type": "code",
      "source": [
        "x_data = train_df[0:20]['Close']\n",
        "x_data.plot(figsize=(12,6), grid=True);"
      ],
      "metadata": {
        "id": "udFIVN7tsdry",
        "outputId": "dada78db-0ae8-40a5-8c8e-b2823bda7f1c",
        "colab": {
          "base_uri": "https://localhost:8080/",
          "height": 374
        }
      },
      "execution_count": 139,
      "outputs": [
        {
          "output_type": "display_data",
          "data": {
            "text/plain": [
              "<Figure size 864x432 with 1 Axes>"
            ],
            "image/png": "[encoded data removed]"
          },
          "metadata": {
            "needs_background": "light"
          }
        }
      ]
    },
    {
      "cell_type": "code",
      "source": [
        "from sklearn.preprocessing import MinMaxScaler\n",
        "## train 데이터 생성\n",
        "i = 0\n",
        "train_label_list = []\n",
        "\n",
        "while True:\n",
        "  ## change <= 0 이면 하락 [label = 0] , change> 0 이면 상승 [label = 1]\n",
        "  try:\n",
        "    change = train_df.iloc[i+20]['Change']\n",
        "  except:\n",
        "    break\n",
        "  if change <= 0 :\n",
        "    label = 0\n",
        "  if change > 0 :\n",
        "    label = 1\n",
        "  train_label_list.append(label)\n",
        "\n",
        "  ## 하루씩 밀려가며 20일치 종가 그래프를 new_data에 저장\n",
        "  scaler = MinMaxScaler()\n",
        "  x_data = train_df[i:i+20]['Close'].values\n",
        "  scaler.fit(x_data)\n",
        "  x_data = scaler.fit_transform(x_data)\n",
        "  x_data = [x_data]\n",
        "  if i == 0 :\n",
        "    train_data = np.array(x_data)\n",
        "  else:\n",
        "    train_data = np.concatenate((train_data,np.array(x_data)),axis=0)\n",
        "\n",
        "  i += 1\n",
        "train_data"
      ],
      "metadata": {
        "colab": {
          "base_uri": "https://localhost:8080/"
        },
        "id": "_9ROBcTJ6SS8",
        "outputId": "35d5d70b-f167-41fc-f46c-bc3de9ecc826"
      },
      "execution_count": 142,
      "outputs": [
        {
          "output_type": "execute_result",
          "data": {
            "text/plain": [
              "array([[ 74.03,  75.09,  74.44, ...,  76.53,  76.75,  77.5 ],\n",
              "       [ 75.09,  74.44,  75.34, ...,  76.75,  77.5 ,  78.5 ],\n",
              "       [ 74.44,  75.34,  74.69, ...,  77.5 ,  78.5 ,  78.41],\n",
              "       ...,\n",
              "       [208.69, 210.68, 208.53, ..., 206.02, 205.68, 205.21],\n",
              "       [210.68, 208.53, 205.61, ..., 205.68, 205.21, 207.4 ],\n",
              "       [208.53, 205.61, 209.62, ..., 205.21, 207.4 , 205.93]])"
            ]
          },
          "metadata": {},
          "execution_count": 142
        }
      ]
    },
    {
      "cell_type": "code",
      "source": [
        "## test 데이터 생성\n",
        "i = 0\n",
        "test_label_list = []\n",
        "while True:\n",
        "  ## change <= 0 이면 하락 [label = 0] , change> 0 이면 상승 [label = 1]\n",
        "  try:\n",
        "    change = test_df.iloc[i+20]['Change']\n",
        "  except:\n",
        "    break\n",
        "  if change <= 0 :\n",
        "    label = 0\n",
        "  if change > 0 :\n",
        "    label = 1\n",
        "  test_label_list.append(label)\n",
        "\n",
        "  ## 하루씩 밀려가며 20일치 종가 그래프를 new_data에 저장\n",
        "  x_data = [test_df[i:i+20]['Close'].values]\n",
        "  if i == 0 :\n",
        "    test_data = np.array(x_data)\n",
        "  else:\n",
        "    test_data = np.concatenate((test_data,np.array(x_data)),axis=0)\n",
        "\n",
        "  i += 1"
      ],
      "metadata": {
        "id": "ihEeSTvlaV65"
      },
      "execution_count": 115,
      "outputs": []
    },
    {
      "cell_type": "code",
      "source": [
        "## train_data , test_data GAF를 이용하여 이미지화\n",
        "from pyts.image import GramianAngularField\n",
        "from matplotlib.pyplot import imshow\n",
        "transformer = GramianAngularField(method='difference')\n",
        "X_train_GAF = transformer.fit_transform(train_data)\n",
        "X_test_GAF = transformer.fit_transform(test_data)\n",
        "imshow(X_train_GAF[0])"
      ],
      "metadata": {
        "colab": {
          "base_uri": "https://localhost:8080/",
          "height": 283
        },
        "id": "r1Py87roOP_L",
        "outputId": "05dd3a9d-26c7-4638-bf8d-a021f8215b36"
      },
      "execution_count": 117,
      "outputs": [
        {
          "output_type": "execute_result",
          "data": {
            "text/plain": [
              "<matplotlib.image.AxesImage at 0x7fd8c1a9b9d0>"
            ]
          },
          "metadata": {},
          "execution_count": 117
        },
        {
          "output_type": "display_data",
          "data": {
            "text/plain": [
              "<Figure size 432x288 with 1 Axes>"
            ],
            "image/png": "[encoded data removed]"
          },
          "metadata": {
            "needs_background": "light"
          }
        }
      ]
    },
    {
      "cell_type": "code",
      "source": [
        "# GAF 이미지 normalize\n",
        "X_train_GAF_L = (((X_train_GAF + 1) / 2)*255).astype(int)\n",
        "X_test_GAF_L = (((X_test_GAF + 1) / 2)*255).astype(int)\n",
        "imshow(X_train_GAF_L[0])"
      ],
      "metadata": {
        "id": "LucMTuKi-G4E",
        "colab": {
          "base_uri": "https://localhost:8080/",
          "height": 283
        },
        "outputId": "d774580f-e48e-4a35-e364-0802721813a0"
      },
      "execution_count": 120,
      "outputs": [
        {
          "output_type": "execute_result",
          "data": {
            "text/plain": [
              "<matplotlib.image.AxesImage at 0x7fd8c23e5650>"
            ]
          },
          "metadata": {},
          "execution_count": 120
        },
        {
          "output_type": "display_data",
          "data": {
            "text/plain": [
              "<Figure size 432x288 with 1 Axes>"
            ],
            "image/png": "[encoded data removed]"
          },
          "metadata": {
            "needs_background": "light"
          }
        }
      ]
    },
    {
      "cell_type": "code",
      "source": [
        "## \bGAF 이미지 normalize 확인\n",
        "\n",
        "np.min(X_train_GAF_L), np.max(X_train_GAF_L)"
      ],
      "metadata": {
        "colab": {
          "base_uri": "https://localhost:8080/"
        },
        "id": "d-3dKM-MN-b_",
        "outputId": "7f8719bc-0bca-4487-88fb-93600e611178"
      },
      "execution_count": 121,
      "outputs": [
        {
          "output_type": "execute_result",
          "data": {
            "text/plain": [
              "(0, 255)"
            ]
          },
          "metadata": {},
          "execution_count": 121
        }
      ]
    },
    {
      "cell_type": "code",
      "source": [
        "## data 저장 폴더 생성\n",
        "\n",
        "!mkdir gaf_images\n",
        "root_folder = 'gaf_images'"
      ],
      "metadata": {
        "colab": {
          "base_uri": "https://localhost:8080/"
        },
        "id": "WNCppU2qiLC8",
        "outputId": "379ed352-8d36-4a3a-cec7-a5ce68effe18"
      },
      "execution_count": 97,
      "outputs": [
        {
          "output_type": "stream",
          "name": "stdout",
          "text": [
            "mkdir: cannot create directory ‘gaf_images’: File exists\n"
          ]
        }
      ]
    },
    {
      "cell_type": "code",
      "source": [
        "print(len(train_label_list))\n",
        "print(len(test_label_list))"
      ],
      "metadata": {
        "colab": {
          "base_uri": "https://localhost:8080/"
        },
        "id": "js6oR4EVorm0",
        "outputId": "41aa3329-80b2-4941-e671-5fd0dd2a24e7"
      },
      "execution_count": 123,
      "outputs": [
        {
          "output_type": "stream",
          "name": "stdout",
          "text": [
            "4762\n",
            "1239\n"
          ]
        }
      ]
    },
    {
      "cell_type": "markdown",
      "source": [
        "# 3. Train (fit)"
      ],
      "metadata": {
        "id": "jRdcqlA-J72k"
      }
    },
    {
      "cell_type": "code",
      "source": [
        "# save train set images (e.g., train/class_name/0.png)\n",
        "\n",
        "for i in range(len(train_label_list)):\n",
        "     \n",
        "    # define file names\n",
        "    image_file_name = str(i) + '.png'\n",
        "\n",
        "    # define folder names\n",
        "    class_folder_name = str(train_label_list[i])\n",
        "    full_path = os.path.join(root_folder, 'train')\n",
        "    full_path = os.path.join(full_path, class_folder_name)\n",
        "    \n",
        "    # make folders\n",
        "    if not os.path.exists(full_path):\n",
        "        os.makedirs(full_path)\n",
        "\n",
        "    # save images\n",
        "    image_file_name_with_full_path = os.path.join(full_path, image_file_name)\n",
        "    plt.imsave(image_file_name_with_full_path, X_train_GAF_L[i])"
      ],
      "metadata": {
        "id": "PL-yHtcB-a2l"
      },
      "execution_count": 124,
      "outputs": []
    },
    {
      "cell_type": "code",
      "source": [
        "# save test set images (e.g., test/class_name/0.png)\n",
        "\n",
        "for i in range(len(test_label_list)):\n",
        "     \n",
        "    # define file names\n",
        "    image_file_name = str(i) + '.png'\n",
        "\n",
        "    # define folder names\n",
        "    class_folder_name = str(test_label_list[i])\n",
        "    full_path = os.path.join(root_folder, 'test')\n",
        "    full_path = os.path.join(full_path, class_folder_name)\n",
        "    \n",
        "    # make folders\n",
        "    if not os.path.exists(full_path):\n",
        "        os.makedirs(full_path)\n",
        "\n",
        "    # save images\n",
        "    image_file_name_with_full_path = os.path.join(full_path, image_file_name)\n",
        "    plt.imsave(image_file_name_with_full_path, X_test_GAF_L[i])"
      ],
      "metadata": {
        "id": "9xaNm5v1_Y9C"
      },
      "execution_count": 126,
      "outputs": []
    },
    {
      "cell_type": "code",
      "source": [
        "# train using Prophet\n",
        "\n",
        "myprophet = Prophet()\n",
        "myprophet.fit(df)"
      ],
      "metadata": {
        "id": "RY3uUkx8AQxb"
      },
      "execution_count": null,
      "outputs": []
    },
    {
      "cell_type": "markdown",
      "source": [
        "# 4. Predict future"
      ],
      "metadata": {
        "id": "iz0nz0czKTZc"
      }
    },
    {
      "cell_type": "code",
      "source": [
        "# create future periods\n",
        "\n",
        "future = myprophet.make_future_dataframe(periods=365)\n",
        "future"
      ],
      "metadata": {
        "id": "UhRXk1h-AcFg"
      },
      "execution_count": null,
      "outputs": []
    },
    {
      "cell_type": "code",
      "source": [
        "# predict\n",
        "\n",
        "forecast = myprophet.predict(future)\n",
        "forecast"
      ],
      "metadata": {
        "id": "p7ZfiZ-tA1vF"
      },
      "execution_count": null,
      "outputs": []
    },
    {
      "cell_type": "code",
      "source": [
        "# plot forecast\n",
        "\n",
        "myprophet.plot(forecast);"
      ],
      "metadata": {
        "id": "ydQVWrhGAmF0"
      },
      "execution_count": null,
      "outputs": []
    },
    {
      "cell_type": "code",
      "source": [
        "# plot components of forecast\n",
        "\n",
        "myprophet.plot_components(forecast);"
      ],
      "metadata": {
        "id": "FmijGTMbAssE"
      },
      "execution_count": null,
      "outputs": []
    },
    {
      "cell_type": "code",
      "source": [
        "# compare actual and forecast\n",
        "\n",
        "plt.figure(figsize=(12,6))\n",
        "plt.plot(df_mystock.index, df_mystock['Close'], label='actual')\n",
        "plt.plot(forecast['ds'], forecast['yhat'], label='forecast')\n",
        "plt.grid()\n",
        "plt.legend()\n",
        "plt.show()"
      ],
      "metadata": {
        "id": "O8a1NVAvBH4q"
      },
      "execution_count": null,
      "outputs": []
    }
  ]
}
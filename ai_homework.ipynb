{
  "nbformat": 4,
  "nbformat_minor": 0,
  "metadata": {
    "colab": {
      "name": "EC5320_2022_1_Week6a_Prophet_v2_FOR_TEACHING.ipynb",
      "provenance": [],
      "collapsed_sections": [],
      "include_colab_link": true
    },
    "kernelspec": {
      "name": "python3",
      "display_name": "Python 3"
    },
    "language_info": {
      "name": "python"
    }
  },
  "cells": [
    {
      "cell_type": "markdown",
      "metadata": {
        "id": "view-in-github",
        "colab_type": "text"
      },
      "source": [
        "<a href=\"https://colab.research.google.com/github/kdh4672/economy_ai/blob/main/ai_homework.ipynb\" target=\"_parent\"><img src=\"https://colab.research.google.com/assets/colab-badge.svg\" alt=\"Open In Colab\"/></a>"
      ]
    },
    {
      "cell_type": "markdown",
      "source": [
        "#EC5320 Week6a codes: Time series future prediction (Facebook Prophet)\n",
        "\n",
        "2022.4.6.<br>\n",
        "\n",
        "Author: Hyunjoo Yang (hyang@sogang.ac.kr)<br><br>\n",
        "\n",
        "This notebook uses Facebook's Prophet to predict future stock prices.<br><br>\n",
        "\n",
        "For Facebook's Prophet, refer to:<br>\n",
        "https://facebook.github.io/prophet/ <br><br>\n",
        "\n",
        "Codes are based on: <br>\n",
        "https://github.com/PinkWink/DataScience/blob/master/source_code/07.%20Time%20Series%20Data%20Handle.ipynb <br>"
      ],
      "metadata": {
        "id": "kJhpwrCqEvpr"
      }
    },
    {
      "cell_type": "markdown",
      "source": [
        "# 1. Import"
      ],
      "metadata": {
        "id": "QahKeFvYF2N8"
      }
    },
    {
      "cell_type": "code",
      "source": [
        "!pip install finance-datareader"
      ],
      "metadata": {
        "colab": {
          "base_uri": "https://localhost:8080/"
        },
        "id": "FtPKHphY5kUv",
        "outputId": "932401cb-9b36-46b2-9924-4e2b6ee2a350"
      },
      "execution_count": 2,
      "outputs": [
        {
          "output_type": "stream",
          "name": "stdout",
          "text": [
            "Collecting finance-datareader\n",
            "  Downloading finance_datareader-0.9.33-py3-none-any.whl (48 kB)\n",
            "\u001b[?25l\r\u001b[K     |██████▊                         | 10 kB 14.1 MB/s eta 0:00:01\r\u001b[K     |█████████████▍                  | 20 kB 10.8 MB/s eta 0:00:01\r\u001b[K     |████████████████████▏           | 30 kB 7.1 MB/s eta 0:00:01\r\u001b[K     |██████████████████████████▉     | 40 kB 7.9 MB/s eta 0:00:01\r\u001b[K     |████████████████████████████████| 48 kB 2.6 MB/s \n",
            "\u001b[?25hCollecting requests-file\n",
            "  Downloading requests_file-1.5.1-py2.py3-none-any.whl (3.7 kB)\n",
            "Requirement already satisfied: tqdm in /usr/local/lib/python3.7/dist-packages (from finance-datareader) (4.63.0)\n",
            "Requirement already satisfied: lxml in /usr/local/lib/python3.7/dist-packages (from finance-datareader) (4.2.6)\n",
            "Requirement already satisfied: requests>=2.3.0 in /usr/local/lib/python3.7/dist-packages (from finance-datareader) (2.23.0)\n",
            "Requirement already satisfied: pandas>=0.19.2 in /usr/local/lib/python3.7/dist-packages (from finance-datareader) (1.3.5)\n",
            "Requirement already satisfied: numpy>=1.17.3 in /usr/local/lib/python3.7/dist-packages (from pandas>=0.19.2->finance-datareader) (1.21.5)\n",
            "Requirement already satisfied: pytz>=2017.3 in /usr/local/lib/python3.7/dist-packages (from pandas>=0.19.2->finance-datareader) (2018.9)\n",
            "Requirement already satisfied: python-dateutil>=2.7.3 in /usr/local/lib/python3.7/dist-packages (from pandas>=0.19.2->finance-datareader) (2.8.2)\n",
            "Requirement already satisfied: six>=1.5 in /usr/local/lib/python3.7/dist-packages (from python-dateutil>=2.7.3->pandas>=0.19.2->finance-datareader) (1.15.0)\n",
            "Requirement already satisfied: urllib3!=1.25.0,!=1.25.1,<1.26,>=1.21.1 in /usr/local/lib/python3.7/dist-packages (from requests>=2.3.0->finance-datareader) (1.24.3)\n",
            "Requirement already satisfied: idna<3,>=2.5 in /usr/local/lib/python3.7/dist-packages (from requests>=2.3.0->finance-datareader) (2.10)\n",
            "Requirement already satisfied: certifi>=2017.4.17 in /usr/local/lib/python3.7/dist-packages (from requests>=2.3.0->finance-datareader) (2021.10.8)\n",
            "Requirement already satisfied: chardet<4,>=3.0.2 in /usr/local/lib/python3.7/dist-packages (from requests>=2.3.0->finance-datareader) (3.0.4)\n",
            "Installing collected packages: requests-file, finance-datareader\n",
            "Successfully installed finance-datareader-0.9.33 requests-file-1.5.1\n"
          ]
        }
      ]
    },
    {
      "cell_type": "code",
      "execution_count": 4,
      "metadata": {
        "id": "YMbc5B0t8uj2"
      },
      "outputs": [],
      "source": [
        "import pandas as pd\n",
        "import pandas_datareader as pdr\n",
        "import numpy as np\n",
        "import matplotlib.pyplot as plt\n",
        "from fbprophet import Prophet\n",
        "from datetime import datetime\n",
        "import FinanceDataReader as fdr"
      ]
    },
    {
      "cell_type": "markdown",
      "source": [
        "# 2. Data preparation"
      ],
      "metadata": {
        "id": "ASnELc3KF6VK"
      }
    },
    {
      "cell_type": "code",
      "source": [
        "# SET START AND END DATE FOR STOCK PRICES HERE\n",
        "\n",
        "df = fdr.DataReader('AAPL', '1997','2016')\n",
        "test_df = fdr.DataReader('AAPL', '2017','2022')"
      ],
      "metadata": {
        "id": "ysPe9htS873r"
      },
      "execution_count": 5,
      "outputs": []
    },
    {
      "cell_type": "code",
      "source": [
        "# check dtypes of variables\n",
        "\n",
        "df.dtypes"
      ],
      "metadata": {
        "id": "EdxUe3KV-fnq",
        "colab": {
          "base_uri": "https://localhost:8080/"
        },
        "outputId": "d0764357-9228-4d0e-bb95-284f18a463ab"
      },
      "execution_count": 6,
      "outputs": [
        {
          "output_type": "execute_result",
          "data": {
            "text/plain": [
              "Close     float64\n",
              "Open      float64\n",
              "High      float64\n",
              "Low       float64\n",
              "Volume    float64\n",
              "Change    float64\n",
              "dtype: object"
            ]
          },
          "metadata": {},
          "execution_count": 6
        }
      ]
    },
    {
      "cell_type": "code",
      "source": [
        "df[0:20]['Close']"
      ],
      "metadata": {
        "colab": {
          "base_uri": "https://localhost:8080/"
        },
        "id": "ZaQaZVMhCtMa",
        "outputId": "486d3cb8-6f13-4561-9f0f-5b42b280c479"
      },
      "execution_count": 22,
      "outputs": [
        {
          "output_type": "execute_result",
          "data": {
            "text/plain": [
              "Date\n",
              "1997-01-02    0.19\n",
              "1997-01-03    0.19\n",
              "1997-01-06    0.16\n",
              "1997-01-07    0.16\n",
              "1997-01-08    0.16\n",
              "1997-01-09    0.16\n",
              "1997-01-10    0.16\n",
              "1997-01-13    0.16\n",
              "1997-01-14    0.16\n",
              "1997-01-15    0.15\n",
              "1997-01-16    0.15\n",
              "1997-01-17    0.15\n",
              "1997-01-20    0.15\n",
              "1997-01-21    0.15\n",
              "1997-01-22    0.15\n",
              "1997-01-23    0.15\n",
              "1997-01-24    0.15\n",
              "1997-01-27    0.15\n",
              "1997-01-28    0.15\n",
              "1997-01-29    0.15\n",
              "Name: Close, dtype: float64"
            ]
          },
          "metadata": {},
          "execution_count": 22
        }
      ]
    },
    {
      "cell_type": "code",
      "source": [
        "# convert dtypes to integer\n",
        "# df_mystock = df_mystock.astype('int32')\n",
        "df.shape\n",
        "df[0:0+19].shape\n",
        "df.iloc[20]"
      ],
      "metadata": {
        "id": "dWY7CNOH-iLb",
        "colab": {
          "base_uri": "https://localhost:8080/"
        },
        "outputId": "ba377c66-cff1-4672-d81a-dbe86e8ced62"
      },
      "execution_count": 21,
      "outputs": [
        {
          "output_type": "execute_result",
          "data": {
            "text/plain": [
              "Close     1.500000e-01\n",
              "Open      1.500000e-01\n",
              "High      1.500000e-01\n",
              "Low       1.500000e-01\n",
              "Volume    1.399300e+08\n",
              "Change    0.000000e+00\n",
              "Name: 1997-01-30 00:00:00, dtype: float64"
            ]
          },
          "metadata": {},
          "execution_count": 21
        }
      ]
    },
    {
      "cell_type": "code",
      "source": [
        "i = 0\n",
        "x_data_list = []\n",
        "label_list = []\n",
        "new_df = pd.DataFrame()\n",
        "while True:\n",
        "  x_data = df[i:i+20]['Close']\n",
        "  new_df.append(df[i:i+20]['Close'])\n",
        "  try:\n",
        "    change = df.iloc[i+20]['Change']\n",
        "  except:\n",
        "    break\n",
        "  if change <= 0 :\n",
        "    label = 0\n",
        "  if change > 0 :\n",
        "    label = 1\n",
        "  x_data_list.append(x_data)\n",
        "  label_list.append(label)\n",
        "  i += 1\n",
        "print(x_data_list[0])\n",
        "print(label_list[0])\n",
        "print(new_df.shape)"
      ],
      "metadata": {
        "colab": {
          "base_uri": "https://localhost:8080/"
        },
        "id": "_9ROBcTJ6SS8",
        "outputId": "5dc5480d-430d-4ec4-f08c-949e2dca09fe"
      },
      "execution_count": 60,
      "outputs": [
        {
          "output_type": "stream",
          "name": "stdout",
          "text": [
            "Date\n",
            "1997-01-02    0.19\n",
            "1997-01-03    0.19\n",
            "1997-01-06    0.16\n",
            "1997-01-07    0.16\n",
            "1997-01-08    0.16\n",
            "1997-01-09    0.16\n",
            "1997-01-10    0.16\n",
            "1997-01-13    0.16\n",
            "1997-01-14    0.16\n",
            "1997-01-15    0.15\n",
            "1997-01-16    0.15\n",
            "1997-01-17    0.15\n",
            "1997-01-20    0.15\n",
            "1997-01-21    0.15\n",
            "1997-01-22    0.15\n",
            "1997-01-23    0.15\n",
            "1997-01-24    0.15\n",
            "1997-01-27    0.15\n",
            "1997-01-28    0.15\n",
            "1997-01-29    0.15\n",
            "Name: Close, dtype: float64\n",
            "0\n",
            "(0, 0)\n"
          ]
        }
      ]
    },
    {
      "cell_type": "code",
      "source": [
        "print(x_data_list[0].values)"
      ],
      "metadata": {
        "colab": {
          "base_uri": "https://localhost:8080/"
        },
        "id": "r1Py87roOP_L",
        "outputId": "d5d47db8-91b6-4e8a-feb0-373a62822d78"
      },
      "execution_count": 43,
      "outputs": [
        {
          "output_type": "stream",
          "name": "stdout",
          "text": [
            "[0.19 0.19 0.16 0.16 0.16 0.16 0.16 0.16 0.16 0.15 0.15 0.15 0.15 0.15\n",
            " 0.15 0.15 0.15 0.15 0.15 0.15]\n"
          ]
        }
      ]
    },
    {
      "cell_type": "code",
      "source": [
        "# plot closing stock prices \n",
        "x_data_list[0].plot(figsize=(12,6), grid=True);"
      ],
      "metadata": {
        "id": "LucMTuKi-G4E",
        "colab": {
          "base_uri": "https://localhost:8080/",
          "height": 421
        },
        "outputId": "733e88d3-b7b4-4da3-9168-38fd008c1e0d"
      },
      "execution_count": 36,
      "outputs": [
        {
          "output_type": "display_data",
          "data": {
            "text/plain": [
              "<Figure size 864x432 with 1 Axes>"
            ],
            "image/png": "[encoded data removed]"
          },
          "metadata": {
            "needs_background": "light"
          }
        }
      ]
    },
    {
      "cell_type": "code",
      "source": [
        "x_array = np.array([[]])\n",
        "label_array = np.array([])\n",
        "i = 0\n",
        "print(x_array.shape)\n",
        "for item in x_data_list:\n",
        "  x_array = np.concatenate((x_array,np.array([item.values])),axis=-1)\n",
        "  i+=1\n",
        "  if i ==3:\n",
        "    break\n",
        "x_array"
      ],
      "metadata": {
        "colab": {
          "base_uri": "https://localhost:8080/"
        },
        "id": "d-3dKM-MN-b_",
        "outputId": "11001c02-d967-4f2d-caf4-2fc48dac750b"
      },
      "execution_count": 57,
      "outputs": [
        {
          "output_type": "stream",
          "name": "stdout",
          "text": [
            "(1, 0)\n"
          ]
        },
        {
          "output_type": "execute_result",
          "data": {
            "text/plain": [
              "array([[0.19, 0.19, 0.16, 0.16, 0.16, 0.16, 0.16, 0.16, 0.16, 0.15, 0.15,\n",
              "        0.15, 0.15, 0.15, 0.15, 0.15, 0.15, 0.15, 0.15, 0.15, 0.19, 0.16,\n",
              "        0.16, 0.16, 0.16, 0.16, 0.16, 0.16, 0.15, 0.15, 0.15, 0.15, 0.15,\n",
              "        0.15, 0.15, 0.15, 0.15, 0.15, 0.15, 0.15, 0.16, 0.16, 0.16, 0.16,\n",
              "        0.16, 0.16, 0.16, 0.15, 0.15, 0.15, 0.15, 0.15, 0.15, 0.15, 0.15,\n",
              "        0.15, 0.15, 0.15, 0.15, 0.15]])"
            ]
          },
          "metadata": {},
          "execution_count": 57
        }
      ]
    },
    {
      "cell_type": "markdown",
      "source": [
        "# 3. Train (fit)"
      ],
      "metadata": {
        "id": "jRdcqlA-J72k"
      }
    },
    {
      "cell_type": "code",
      "source": [
        "# Prepare train data set\n",
        "# SET TRAIN SET DURATION HERE\n",
        "\n",
        "df_mystock_trunc = df_mystock[:'2016-12-31']\n",
        "df_mystock_trunc"
      ],
      "metadata": {
        "id": "PL-yHtcB-a2l"
      },
      "execution_count": null,
      "outputs": []
    },
    {
      "cell_type": "code",
      "source": [
        "# create a final train dataset for training\n",
        "\n",
        "df = pd.DataFrame({'ds':df_mystock_trunc.index, 'y':df_mystock_trunc['Close']})\n",
        "df.reset_index(inplace=True)\n",
        "del df['Date']\n",
        "df"
      ],
      "metadata": {
        "id": "9xaNm5v1_Y9C"
      },
      "execution_count": null,
      "outputs": []
    },
    {
      "cell_type": "code",
      "source": [
        "# train using Prophet\n",
        "\n",
        "myprophet = Prophet()\n",
        "myprophet.fit(df)"
      ],
      "metadata": {
        "id": "RY3uUkx8AQxb"
      },
      "execution_count": null,
      "outputs": []
    },
    {
      "cell_type": "markdown",
      "source": [
        "# 4. Predict future"
      ],
      "metadata": {
        "id": "iz0nz0czKTZc"
      }
    },
    {
      "cell_type": "code",
      "source": [
        "# create future periods\n",
        "\n",
        "future = myprophet.make_future_dataframe(periods=365)\n",
        "future"
      ],
      "metadata": {
        "id": "UhRXk1h-AcFg"
      },
      "execution_count": null,
      "outputs": []
    },
    {
      "cell_type": "code",
      "source": [
        "# predict\n",
        "\n",
        "forecast = myprophet.predict(future)\n",
        "forecast"
      ],
      "metadata": {
        "id": "p7ZfiZ-tA1vF"
      },
      "execution_count": null,
      "outputs": []
    },
    {
      "cell_type": "code",
      "source": [
        "# plot forecast\n",
        "\n",
        "myprophet.plot(forecast);"
      ],
      "metadata": {
        "id": "ydQVWrhGAmF0"
      },
      "execution_count": null,
      "outputs": []
    },
    {
      "cell_type": "code",
      "source": [
        "# plot components of forecast\n",
        "\n",
        "myprophet.plot_components(forecast);"
      ],
      "metadata": {
        "id": "FmijGTMbAssE"
      },
      "execution_count": null,
      "outputs": []
    },
    {
      "cell_type": "code",
      "source": [
        "# compare actual and forecast\n",
        "\n",
        "plt.figure(figsize=(12,6))\n",
        "plt.plot(df_mystock.index, df_mystock['Close'], label='actual')\n",
        "plt.plot(forecast['ds'], forecast['yhat'], label='forecast')\n",
        "plt.grid()\n",
        "plt.legend()\n",
        "plt.show()"
      ],
      "metadata": {
        "id": "O8a1NVAvBH4q"
      },
      "execution_count": null,
      "outputs": []
    }
  ]
}